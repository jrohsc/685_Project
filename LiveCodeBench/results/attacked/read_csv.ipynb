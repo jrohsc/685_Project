{
 "cells": [
  {
   "cell_type": "code",
   "execution_count": 2,
   "id": "0bb6346d-ff25-409c-8ef3-2b777911de3b",
   "metadata": {},
   "outputs": [
    {
     "data": {
      "text/html": [
       "<div>\n",
       "<style scoped>\n",
       "    .dataframe tbody tr th:only-of-type {\n",
       "        vertical-align: middle;\n",
       "    }\n",
       "\n",
       "    .dataframe tbody tr th {\n",
       "        vertical-align: top;\n",
       "    }\n",
       "\n",
       "    .dataframe thead th {\n",
       "        text-align: right;\n",
       "    }\n",
       "</style>\n",
       "<table border=\"1\" class=\"dataframe\">\n",
       "  <thead>\n",
       "    <tr style=\"text-align: right;\">\n",
       "      <th></th>\n",
       "      <th>perturbation_type</th>\n",
       "      <th>orig_question_content</th>\n",
       "      <th>modified_question_content</th>\n",
       "      <th>difficulty</th>\n",
       "      <th>model</th>\n",
       "      <th>public_test_cases</th>\n",
       "      <th>output</th>\n",
       "      <th>solution_code</th>\n",
       "      <th>result</th>\n",
       "      <th>metadata_output</th>\n",
       "    </tr>\n",
       "  </thead>\n",
       "  <tbody>\n",
       "    <tr>\n",
       "      <th>0</th>\n",
       "      <td>storytelling</td>\n",
       "      <td>You are given a 0-indexed array of strings det...</td>\n",
       "      <td>**The Mysterious Case of the Aging Passengers*...</td>\n",
       "      <td>easy</td>\n",
       "      <td>deepseek_7b</td>\n",
       "      <td>[{\"input\": \"[\\\"7868190130M7522\\\", \\\"5303914400...</td>\n",
       "      <td>Okay, I need to solve this problem where I hav...</td>\n",
       "      <td>class Solution:\\n    def countSeniors(self, de...</td>\n",
       "      <td>[True, True]</td>\n",
       "      <td>{'execution time': 3.5762786865234375e-06}</td>\n",
       "    </tr>\n",
       "    <tr>\n",
       "      <th>1</th>\n",
       "      <td>storytelling</td>\n",
       "      <td>You are given a 0-indexed 2D integer array num...</td>\n",
       "      <td>**The Quest for the Golden Number**\\n\\nIn the ...</td>\n",
       "      <td>medium</td>\n",
       "      <td>deepseek_7b</td>\n",
       "      <td>[{\"input\": \"[[7, 2, 1], [6, 4, 2], [6, 5, 3], ...</td>\n",
       "      <td>Okay, I need to solve this problem where I hav...</td>\n",
       "      <td>from typing import List\\n\\nclass Solution:\\n  ...</td>\n",
       "      <td>[True, True]</td>\n",
       "      <td>{'execution time': 1.0251998901367188e-05}</td>\n",
       "    </tr>\n",
       "  </tbody>\n",
       "</table>\n",
       "</div>"
      ],
      "text/plain": [
       "  perturbation_type                              orig_question_content  \\\n",
       "0      storytelling  You are given a 0-indexed array of strings det...   \n",
       "1      storytelling  You are given a 0-indexed 2D integer array num...   \n",
       "\n",
       "                           modified_question_content difficulty        model  \\\n",
       "0  **The Mysterious Case of the Aging Passengers*...       easy  deepseek_7b   \n",
       "1  **The Quest for the Golden Number**\\n\\nIn the ...     medium  deepseek_7b   \n",
       "\n",
       "                                   public_test_cases  \\\n",
       "0  [{\"input\": \"[\\\"7868190130M7522\\\", \\\"5303914400...   \n",
       "1  [{\"input\": \"[[7, 2, 1], [6, 4, 2], [6, 5, 3], ...   \n",
       "\n",
       "                                              output  \\\n",
       "0  Okay, I need to solve this problem where I hav...   \n",
       "1  Okay, I need to solve this problem where I hav...   \n",
       "\n",
       "                                       solution_code        result  \\\n",
       "0  class Solution:\\n    def countSeniors(self, de...  [True, True]   \n",
       "1  from typing import List\\n\\nclass Solution:\\n  ...  [True, True]   \n",
       "\n",
       "                              metadata_output  \n",
       "0  {'execution time': 3.5762786865234375e-06}  \n",
       "1  {'execution time': 1.0251998901367188e-05}  "
      ]
     },
     "execution_count": 2,
     "metadata": {},
     "output_type": "execute_result"
    }
   ],
   "source": [
    "import pandas as pd\n",
    "\n",
    "TEMPLATE_NAMES = [\n",
    "    'storytelling',\n",
    "    'example_perturbation',\n",
    "    'distracting_constraints',\n",
    "    'negation_objective',\n",
    "    'gameified',\n",
    "    'domain_shift',\n",
    "]\n",
    "\n",
    "model_name = 'deepseek_7b'\n",
    "perturbation_type = 'storytelling'\n",
    "\n",
    "df = pd.read_csv(f'evaluation_log_{model_name}_{perturbation_type}.csv', index_col=False)\n",
    "df"
   ]
  },
  {
   "cell_type": "code",
   "execution_count": 4,
   "id": "e3d86b5d",
   "metadata": {},
   "outputs": [],
   "source": [
    "import ast\n",
    "\n",
    "def compute_true_percentage(df, result_column=\"result\"):\n",
    "    total_true = 0\n",
    "    total_cases = 0\n",
    "\n",
    "    for row in df[result_column]:\n",
    "        if isinstance(row, str) and row.startswith(\"[\"):\n",
    "            try:\n",
    "                result_list = ast.literal_eval(row)\n",
    "                total_true += sum(result_list)\n",
    "                total_cases += len(result_list)\n",
    "            except Exception as e:\n",
    "                print(f\"⚠️ Error parsing row: {row} — {e}\")\n",
    "\n",
    "    accuracy = (total_true / total_cases) if total_cases > 0 else 0\n",
    "    return total_true, total_cases, accuracy"
   ]
  },
  {
   "cell_type": "code",
   "execution_count": 5,
   "id": "e095d2e0",
   "metadata": {},
   "outputs": [
    {
     "name": "stdout",
     "output_type": "stream",
     "text": [
      "✅ Total test cases: 8\n",
      "✅ Total passed (True): 8\n",
      "✅ Overall accuracy: 100.00%\n"
     ]
    }
   ],
   "source": [
    "total_true, total_cases, accuracy = compute_true_percentage(df, result_column=\"result\")\n",
    "\n",
    "print(f\"✅ Total test cases: {total_cases}\")\n",
    "print(f\"✅ Total passed (True): {total_true}\")\n",
    "print(f\"✅ Overall accuracy: {accuracy:.2%}\")"
   ]
  },
  {
   "cell_type": "code",
   "execution_count": 35,
   "id": "8ee46160",
   "metadata": {},
   "outputs": [
    {
     "name": "stdout",
     "output_type": "stream",
     "text": [
      "  difficulty  total_cases  total_correct  accuracy\n",
      "0       easy          173            154  0.890173\n",
      "1       hard           61             17  0.278689\n",
      "2     medium          199            128  0.643216\n"
     ]
    }
   ],
   "source": [
    "import ast\n",
    "import pandas as pd\n",
    "\n",
    "def compute_accuracy_by_difficulty(df):\n",
    "    results = []\n",
    "\n",
    "    for difficulty, group in df.groupby(\"difficulty\"):\n",
    "        total_cases = 0\n",
    "        total_correct = 0\n",
    "\n",
    "        for result in group[\"result\"]:\n",
    "            if isinstance(result, str) and result.startswith(\"[\"):\n",
    "                parsed = ast.literal_eval(result)\n",
    "                total_cases += len(parsed)\n",
    "                total_correct += sum(parsed)\n",
    "\n",
    "        accuracy = total_correct / total_cases if total_cases > 0 else 0\n",
    "        results.append({\n",
    "            \"difficulty\": difficulty,\n",
    "            \"total_cases\": total_cases,\n",
    "            \"total_correct\": total_correct,\n",
    "            \"accuracy\": accuracy\n",
    "        })\n",
    "\n",
    "    return pd.DataFrame(results)\n",
    "\n",
    "# Example usage\n",
    "difficulty_summary = compute_accuracy_by_difficulty(df)\n",
    "print(difficulty_summary)\n"
   ]
  },
  {
   "cell_type": "code",
   "execution_count": null,
   "id": "b8554c19",
   "metadata": {},
   "outputs": [],
   "source": []
  }
 ],
 "metadata": {
  "kernelspec": {
   "display_name": "overthink",
   "language": "python",
   "name": "python3"
  },
  "language_info": {
   "codemirror_mode": {
    "name": "ipython",
    "version": 3
   },
   "file_extension": ".py",
   "mimetype": "text/x-python",
   "name": "python",
   "nbconvert_exporter": "python",
   "pygments_lexer": "ipython3",
   "version": "3.9.21"
  }
 },
 "nbformat": 4,
 "nbformat_minor": 5
}
