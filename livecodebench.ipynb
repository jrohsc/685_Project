{
 "cells": [
  {
   "cell_type": "markdown",
   "metadata": {},
   "source": [
    "## Code Generation Lite"
   ]
  },
  {
   "cell_type": "code",
   "execution_count": 4,
   "metadata": {},
   "outputs": [
    {
     "data": {
      "text/html": [
       "<div>\n",
       "<style scoped>\n",
       "    .dataframe tbody tr th:only-of-type {\n",
       "        vertical-align: middle;\n",
       "    }\n",
       "\n",
       "    .dataframe tbody tr th {\n",
       "        vertical-align: top;\n",
       "    }\n",
       "\n",
       "    .dataframe thead th {\n",
       "        text-align: right;\n",
       "    }\n",
       "</style>\n",
       "<table border=\"1\" class=\"dataframe\">\n",
       "  <thead>\n",
       "    <tr style=\"text-align: right;\">\n",
       "      <th></th>\n",
       "      <th>question_title</th>\n",
       "      <th>question_content</th>\n",
       "      <th>platform</th>\n",
       "      <th>question_id</th>\n",
       "      <th>contest_id</th>\n",
       "      <th>contest_date</th>\n",
       "      <th>starter_code</th>\n",
       "      <th>difficulty</th>\n",
       "      <th>public_test_cases</th>\n",
       "      <th>private_test_cases</th>\n",
       "      <th>metadata</th>\n",
       "    </tr>\n",
       "  </thead>\n",
       "  <tbody>\n",
       "    <tr>\n",
       "      <th>0</th>\n",
       "      <td>A. Short Sort</td>\n",
       "      <td>There are three cards with letters $\\texttt{a}...</td>\n",
       "      <td>codeforces</td>\n",
       "      <td>1873_A</td>\n",
       "      <td>1873</td>\n",
       "      <td>2023-08-21T00:00:00</td>\n",
       "      <td></td>\n",
       "      <td>easy</td>\n",
       "      <td>[{\"input\": \"6\\nabc\\nacb\\nbac\\nbca\\ncab\\ncba\\n\"...</td>\n",
       "      <td>eJxrYJmaz8gABhEZQEZ0tVJmXkFpiZKVgpJhTF5iUnJMnp...</td>\n",
       "      <td>{}</td>\n",
       "    </tr>\n",
       "    <tr>\n",
       "      <th>1</th>\n",
       "      <td>B. Good Kid</td>\n",
       "      <td>Slavic is preparing a present for a friend's b...</td>\n",
       "      <td>codeforces</td>\n",
       "      <td>1873_B</td>\n",
       "      <td>1873</td>\n",
       "      <td>2023-08-21T00:00:00</td>\n",
       "      <td></td>\n",
       "      <td>easy</td>\n",
       "      <td>[{\"input\": \"4\\n4\\n2 2 1 2\\n3\\n0 1 2\\n5\\n4 3 2 ...</td>\n",
       "      <td>eJyUvb2uNVvSlIuBi8UNDLWNUf9VgytB4jXBwOmDRGMcHR...</td>\n",
       "      <td>{}</td>\n",
       "    </tr>\n",
       "    <tr>\n",
       "      <th>2</th>\n",
       "      <td>D. 1D Eraser</td>\n",
       "      <td>You are given a strip of paper $s$ that is $n$...</td>\n",
       "      <td>codeforces</td>\n",
       "      <td>1873_D</td>\n",
       "      <td>1873</td>\n",
       "      <td>2023-08-21T00:00:00</td>\n",
       "      <td></td>\n",
       "      <td>easy</td>\n",
       "      <td>[{\"input\": \"8\\n6 3\\nWBWWWB\\n7 3\\nWWBWBWW\\n5 4\\...</td>\n",
       "      <td>eJyUvb2SY8vWXSdDplz6O65No/APyMyXSEaoTNGgU2IELw...</td>\n",
       "      <td>{}</td>\n",
       "    </tr>\n",
       "    <tr>\n",
       "      <th>3</th>\n",
       "      <td>B. Chemistry</td>\n",
       "      <td>You are given a string $s$ of length $n$, cons...</td>\n",
       "      <td>codeforces</td>\n",
       "      <td>1883_B</td>\n",
       "      <td>1883</td>\n",
       "      <td>2023-09-22T00:00:00</td>\n",
       "      <td></td>\n",
       "      <td>medium</td>\n",
       "      <td>[{\"input\": \"14\\n1 0\\na\\n2 0\\nab\\n2 1\\nba\\n3 1\\...</td>\n",
       "      <td>eJylkUELwiAYhiP6FZ3M84i5Glvdu9ahS5EdpnObG9hg7h...</td>\n",
       "      <td>{}</td>\n",
       "    </tr>\n",
       "    <tr>\n",
       "      <th>4</th>\n",
       "      <td>C. Raspberries</td>\n",
       "      <td>You are given an array of integers $a_1, a_2, ...</td>\n",
       "      <td>codeforces</td>\n",
       "      <td>1883_C</td>\n",
       "      <td>1883</td>\n",
       "      <td>2023-09-22T00:00:00</td>\n",
       "      <td></td>\n",
       "      <td>medium</td>\n",
       "      <td>[{\"input\": \"15\\n2 5\\n7 3\\n3 3\\n7 4 1\\n5 2\\n9 7...</td>\n",
       "      <td>eJyc3TuOLluWJGYKHAaFhZJbaH9ud46EAFNkC60kG+hqgS...</td>\n",
       "      <td>{}</td>\n",
       "    </tr>\n",
       "    <tr>\n",
       "      <th>...</th>\n",
       "      <td>...</td>\n",
       "      <td>...</td>\n",
       "      <td>...</td>\n",
       "      <td>...</td>\n",
       "      <td>...</td>\n",
       "      <td>...</td>\n",
       "      <td>...</td>\n",
       "      <td>...</td>\n",
       "      <td>...</td>\n",
       "      <td>...</td>\n",
       "      <td>...</td>\n",
       "    </tr>\n",
       "    <tr>\n",
       "      <th>506</th>\n",
       "      <td>maximum-sum-of-subsequence-with-non-adjacent-e...</td>\n",
       "      <td>You are given an array nums consisting of inte...</td>\n",
       "      <td>leetcode</td>\n",
       "      <td>3423</td>\n",
       "      <td>weekly-contest-399</td>\n",
       "      <td>2024-05-25T00:00:00</td>\n",
       "      <td>class Solution:\\n    def maximumSumSubsequence...</td>\n",
       "      <td>hard</td>\n",
       "      <td>[{\"input\": \"[3, 5, 9]\\n[[1, -2], [0, -3]]\", \"o...</td>\n",
       "      <td>eJxMvUuqbduSZaeECvLw9D0wx38MFUJpgSsSQoQgQHgEhE...</td>\n",
       "      <td>{\"func_name\": \"maximumSumSubsequence\"}</td>\n",
       "    </tr>\n",
       "    <tr>\n",
       "      <th>507</th>\n",
       "      <td>minimum-substring-partition-of-equal-character...</td>\n",
       "      <td>Given a string s, you need to partition it int...</td>\n",
       "      <td>leetcode</td>\n",
       "      <td>3403</td>\n",
       "      <td>biweekly-contest-130</td>\n",
       "      <td>2024-05-11T00:00:00</td>\n",
       "      <td>class Solution:\\n    def minimumSubstringsInPa...</td>\n",
       "      <td>medium</td>\n",
       "      <td>[{\"input\": \"\\\"fabccddg\\\"\", \"output\": \"3\", \"tes...</td>\n",
       "      <td>eJztW8muJLtx9cIfIvRaMGRNlu2f8M4GLC84z/NMw4A/wv...</td>\n",
       "      <td>{\"func_name\": \"minimumSubstringsInPartition\"}</td>\n",
       "    </tr>\n",
       "    <tr>\n",
       "      <th>508</th>\n",
       "      <td>find-products-of-elements-of-big-array</td>\n",
       "      <td>A powerful array for an integer x is the short...</td>\n",
       "      <td>leetcode</td>\n",
       "      <td>3411</td>\n",
       "      <td>biweekly-contest-130</td>\n",
       "      <td>2024-05-11T00:00:00</td>\n",
       "      <td>class Solution:\\n    def findProductsOfElement...</td>\n",
       "      <td>hard</td>\n",
       "      <td>[{\"input\": \"[[1, 3, 7]]\", \"output\": \"[4]\", \"te...</td>\n",
       "      <td>eJyVWM2qrMcNzMLPkPVw1k3oH7Wk9pMEhrMIwQFDuDbk3I...</td>\n",
       "      <td>{\"func_name\": \"findProductsOfElements\"}</td>\n",
       "    </tr>\n",
       "    <tr>\n",
       "      <th>509</th>\n",
       "      <td>find-the-xor-of-numbers-which-appear-twice</td>\n",
       "      <td>You are given an array nums, where each number...</td>\n",
       "      <td>leetcode</td>\n",
       "      <td>3428</td>\n",
       "      <td>biweekly-contest-131</td>\n",
       "      <td>2024-05-25T00:00:00</td>\n",
       "      <td>class Solution:\\n    def duplicateNumbersXOR(s...</td>\n",
       "      <td>easy</td>\n",
       "      <td>[{\"input\": \"[1, 2, 1, 3]\", \"output\": \"1\", \"tes...</td>\n",
       "      <td>eJylV1uKHEcQ9IcO4CMM812Yej90EoPQhxGyEZiVQLMfxg...</td>\n",
       "      <td>{\"func_name\": \"duplicateNumbersXOR\"}</td>\n",
       "    </tr>\n",
       "    <tr>\n",
       "      <th>510</th>\n",
       "      <td>find-occurrences-of-an-element-in-an-array</td>\n",
       "      <td>You are given an integer array nums, an intege...</td>\n",
       "      <td>leetcode</td>\n",
       "      <td>3420</td>\n",
       "      <td>biweekly-contest-131</td>\n",
       "      <td>2024-05-25T00:00:00</td>\n",
       "      <td>class Solution:\\n    def occurrencesOfElement(...</td>\n",
       "      <td>medium</td>\n",
       "      <td>[{\"input\": \"[1, 3, 1, 7]\\n[1, 3, 2, 4]\\n1\", \"o...</td>\n",
       "      <td>eJzsus2uLEuynKeBHuSgx0VgRWRk/eg9CBC44kAQKICAcE...</td>\n",
       "      <td>{\"func_name\": \"occurrencesOfElement\"}</td>\n",
       "    </tr>\n",
       "  </tbody>\n",
       "</table>\n",
       "<p>511 rows × 11 columns</p>\n",
       "</div>"
      ],
      "text/plain": [
       "                                        question_title  \\\n",
       "0                                        A. Short Sort   \n",
       "1                                          B. Good Kid   \n",
       "2                                         D. 1D Eraser   \n",
       "3                                         B. Chemistry   \n",
       "4                                       C. Raspberries   \n",
       "..                                                 ...   \n",
       "506  maximum-sum-of-subsequence-with-non-adjacent-e...   \n",
       "507  minimum-substring-partition-of-equal-character...   \n",
       "508             find-products-of-elements-of-big-array   \n",
       "509         find-the-xor-of-numbers-which-appear-twice   \n",
       "510         find-occurrences-of-an-element-in-an-array   \n",
       "\n",
       "                                      question_content    platform  \\\n",
       "0    There are three cards with letters $\\texttt{a}...  codeforces   \n",
       "1    Slavic is preparing a present for a friend's b...  codeforces   \n",
       "2    You are given a strip of paper $s$ that is $n$...  codeforces   \n",
       "3    You are given a string $s$ of length $n$, cons...  codeforces   \n",
       "4    You are given an array of integers $a_1, a_2, ...  codeforces   \n",
       "..                                                 ...         ...   \n",
       "506  You are given an array nums consisting of inte...    leetcode   \n",
       "507  Given a string s, you need to partition it int...    leetcode   \n",
       "508  A powerful array for an integer x is the short...    leetcode   \n",
       "509  You are given an array nums, where each number...    leetcode   \n",
       "510  You are given an integer array nums, an intege...    leetcode   \n",
       "\n",
       "    question_id            contest_id         contest_date  \\\n",
       "0        1873_A                  1873  2023-08-21T00:00:00   \n",
       "1        1873_B                  1873  2023-08-21T00:00:00   \n",
       "2        1873_D                  1873  2023-08-21T00:00:00   \n",
       "3        1883_B                  1883  2023-09-22T00:00:00   \n",
       "4        1883_C                  1883  2023-09-22T00:00:00   \n",
       "..          ...                   ...                  ...   \n",
       "506        3423    weekly-contest-399  2024-05-25T00:00:00   \n",
       "507        3403  biweekly-contest-130  2024-05-11T00:00:00   \n",
       "508        3411  biweekly-contest-130  2024-05-11T00:00:00   \n",
       "509        3428  biweekly-contest-131  2024-05-25T00:00:00   \n",
       "510        3420  biweekly-contest-131  2024-05-25T00:00:00   \n",
       "\n",
       "                                          starter_code difficulty  \\\n",
       "0                                                            easy   \n",
       "1                                                            easy   \n",
       "2                                                            easy   \n",
       "3                                                          medium   \n",
       "4                                                          medium   \n",
       "..                                                 ...        ...   \n",
       "506  class Solution:\\n    def maximumSumSubsequence...       hard   \n",
       "507  class Solution:\\n    def minimumSubstringsInPa...     medium   \n",
       "508  class Solution:\\n    def findProductsOfElement...       hard   \n",
       "509  class Solution:\\n    def duplicateNumbersXOR(s...       easy   \n",
       "510  class Solution:\\n    def occurrencesOfElement(...     medium   \n",
       "\n",
       "                                     public_test_cases  \\\n",
       "0    [{\"input\": \"6\\nabc\\nacb\\nbac\\nbca\\ncab\\ncba\\n\"...   \n",
       "1    [{\"input\": \"4\\n4\\n2 2 1 2\\n3\\n0 1 2\\n5\\n4 3 2 ...   \n",
       "2    [{\"input\": \"8\\n6 3\\nWBWWWB\\n7 3\\nWWBWBWW\\n5 4\\...   \n",
       "3    [{\"input\": \"14\\n1 0\\na\\n2 0\\nab\\n2 1\\nba\\n3 1\\...   \n",
       "4    [{\"input\": \"15\\n2 5\\n7 3\\n3 3\\n7 4 1\\n5 2\\n9 7...   \n",
       "..                                                 ...   \n",
       "506  [{\"input\": \"[3, 5, 9]\\n[[1, -2], [0, -3]]\", \"o...   \n",
       "507  [{\"input\": \"\\\"fabccddg\\\"\", \"output\": \"3\", \"tes...   \n",
       "508  [{\"input\": \"[[1, 3, 7]]\", \"output\": \"[4]\", \"te...   \n",
       "509  [{\"input\": \"[1, 2, 1, 3]\", \"output\": \"1\", \"tes...   \n",
       "510  [{\"input\": \"[1, 3, 1, 7]\\n[1, 3, 2, 4]\\n1\", \"o...   \n",
       "\n",
       "                                    private_test_cases  \\\n",
       "0    eJxrYJmaz8gABhEZQEZ0tVJmXkFpiZKVgpJhTF5iUnJMnp...   \n",
       "1    eJyUvb2uNVvSlIuBi8UNDLWNUf9VgytB4jXBwOmDRGMcHR...   \n",
       "2    eJyUvb2SY8vWXSdDplz6O65No/APyMyXSEaoTNGgU2IELw...   \n",
       "3    eJylkUELwiAYhiP6FZ3M84i5Glvdu9ahS5EdpnObG9hg7h...   \n",
       "4    eJyc3TuOLluWJGYKHAaFhZJbaH9ud46EAFNkC60kG+hqgS...   \n",
       "..                                                 ...   \n",
       "506  eJxMvUuqbduSZaeECvLw9D0wx38MFUJpgSsSQoQgQHgEhE...   \n",
       "507  eJztW8muJLtx9cIfIvRaMGRNlu2f8M4GLC84z/NMw4A/wv...   \n",
       "508  eJyVWM2qrMcNzMLPkPVw1k3oH7Wk9pMEhrMIwQFDuDbk3I...   \n",
       "509  eJylV1uKHEcQ9IcO4CMM812Yej90EoPQhxGyEZiVQLMfxg...   \n",
       "510  eJzsus2uLEuynKeBHuSgx0VgRWRk/eg9CBC44kAQKICAcE...   \n",
       "\n",
       "                                          metadata  \n",
       "0                                               {}  \n",
       "1                                               {}  \n",
       "2                                               {}  \n",
       "3                                               {}  \n",
       "4                                               {}  \n",
       "..                                             ...  \n",
       "506         {\"func_name\": \"maximumSumSubsequence\"}  \n",
       "507  {\"func_name\": \"minimumSubstringsInPartition\"}  \n",
       "508        {\"func_name\": \"findProductsOfElements\"}  \n",
       "509           {\"func_name\": \"duplicateNumbersXOR\"}  \n",
       "510          {\"func_name\": \"occurrencesOfElement\"}  \n",
       "\n",
       "[511 rows x 11 columns]"
      ]
     },
     "execution_count": 4,
     "metadata": {},
     "output_type": "execute_result"
    }
   ],
   "source": [
    "import pandas as pd\n",
    "\n",
    "df = pd.read_pickle('code_generation_lite.pkl')\n",
    "df"
   ]
  },
  {
   "cell_type": "code",
   "execution_count": 5,
   "metadata": {},
   "outputs": [],
   "source": [
    "class CodeGenerationProblem:\n",
    "    def __init__(self, question_content, starter_code=None, difficulty=None, public_test_cases=None, private_test_cases=None):\n",
    "        self.question_content = question_content\n",
    "        self.starter_code = starter_code\n",
    "        self.difficulty = difficulty\n",
    "        self.public_test_cases = public_test_cases\n",
    "        self.private_test_cases = private_test_cases"
   ]
  },
  {
   "cell_type": "code",
   "execution_count": 6,
   "metadata": {},
   "outputs": [],
   "source": [
    "FORMATTING_MESSAGE_WITH_STARTER_CODE = \"You will use the following starter code to write the solution to the problem and enclose your code within delimiters.\"\n",
    "FORMATTING_WITHOUT_STARTER_CODE = \"Read the inputs from stdin solve the problem and write the answer to stdout (do not directly test on the sample inputs). Enclose your code within delimiters as follows. Ensure that when the python program runs, it reads the inputs, runs the algorithm and writes output to STDOUT.\""
   ]
  },
  {
   "cell_type": "code",
   "execution_count": 7,
   "metadata": {},
   "outputs": [],
   "source": [
    "def get_generic_question_template_answer(question: CodeGenerationProblem):\n",
    "    prompt = f\"### Question:\\n{question.question_content}\\n\\n\"\n",
    "    if question.starter_code:\n",
    "        prompt += (\n",
    "            f\"### Format: {FORMATTING_MESSAGE_WITH_STARTER_CODE}\\n\"\n",
    "        )\n",
    "        prompt += f\"```python\\n{question.starter_code}\\n```\\n\\n\"\n",
    "    else:\n",
    "        prompt += f\"### Format: {FORMATTING_WITHOUT_STARTER_CODE}\\n\"\n",
    "        prompt += \"```python\\n# YOUR CODE HERE\\n```\\n\\n\"\n",
    "    prompt += f\"### Answer: (use the provided format with backticks)\\n\\n\"\n",
    "    return prompt"
   ]
  },
  {
   "cell_type": "code",
   "execution_count": 61,
   "metadata": {},
   "outputs": [],
   "source": [
    "row = df.iloc[506]\n",
    "problem = CodeGenerationProblem(\n",
    "    question_content=row[\"question_content\"],\n",
    "    starter_code=row[\"starter_code\"] if row[\"starter_code\"] else None,\n",
    "    difficulty=row['difficulty'],\n",
    "    public_test_cases=row['public_test_cases'],\n",
    "    private_test_cases=row['private_test_cases'],\n",
    ")"
   ]
  },
  {
   "cell_type": "code",
   "execution_count": 67,
   "metadata": {},
   "outputs": [
    {
     "data": {
      "text/plain": [
       "'[{\"input\": \"[3, 5, 9]\\\\n[[1, -2], [0, -3]]\", \"output\": \"21\", \"testtype\": \"functional\"}, {\"input\": \"[0, -1]\\\\n[[0, -5]]\", \"output\": \"0\", \"testtype\": \"functional\"}]'"
      ]
     },
     "execution_count": 67,
     "metadata": {},
     "output_type": "execute_result"
    }
   ],
   "source": [
    "problem.public_test_cases"
   ]
  },
  {
   "cell_type": "code",
   "execution_count": null,
   "metadata": {},
   "outputs": [],
   "source": []
  },
  {
   "cell_type": "code",
   "execution_count": null,
   "metadata": {},
   "outputs": [],
   "source": []
  },
  {
   "cell_type": "markdown",
   "metadata": {},
   "source": [
    "## DeepSeek"
   ]
  },
  {
   "cell_type": "code",
   "execution_count": 68,
   "metadata": {},
   "outputs": [],
   "source": [
    "SYSTEM_MESSAGE_DEEPSEEK = \"You are an AI programming assistant, utilizing the DeepSeek Coder model, developed by DeepSeek Company, and you answer questions related to computer science.\"\n",
    "SYSTEM_MESSAGE_DEEPSEEK_R1 = \"\"\"\n",
    "    <｜begin▁of▁sentence｜>A conversation between User and Assistant.\n",
    "    The user asks a question, and the Assistant solves it.\n",
    "    The assistant first thinks about the reasoning process in the mind and then provides the user with the answer.\n",
    "    The reasoning process and answer are enclosed within <think> </think> and <answer> </answer> tags, respectively, i.e., <think> reasoning process here </think> <answer> answer here </answer>.<｜User｜>\n",
    "\"\"\"\n",
    "\n",
    "def get_deepseekcode_question_template_answer(question: CodeGenerationProblem):\n",
    "    prompt = f\"### Instruction: You will be given a question (problem specification) and will generate a correct Python program that matches the specification and passes all tests. You will NOT return anything except for the program.\\n\\n\"\n",
    "    prompt += f\"Question:\\n{question.question_content}\\n\\n\"\n",
    "    if question.starter_code:\n",
    "        prompt += (\n",
    "            f\"### Instruction: {FORMATTING_MESSAGE_WITH_STARTER_CODE}\\n\"\n",
    "        )\n",
    "        prompt += f\"```python\\n{question.starter_code}\\n```\\n\\n\"\n",
    "    else:\n",
    "        prompt += (\n",
    "            f\"### Instruction: {FORMATTING_WITHOUT_STARTER_CODE}\\n\"\n",
    "        )\n",
    "        prompt += f\"```python\\n# YOUR CODE HERE\\n```\\n\\n\"\n",
    "    prompt += f\"### Response:\\n\\n\"\n",
    "    return prompt\n",
    "\n",
    "def get_deepseek_r1_question_template_answer(question: CodeGenerationProblem):\n",
    "    # Following modifications from: https://github.com/fanqiwan/FuseAI/blob/main/FuseO1-Preview/code_evaluation/lcb_runner_cq/prompts/code_generation.py\n",
    "    prompt = \"You will be given a question (problem specification) and will generate a correct Python program that matches the specification and passes all tests.\\n\\n\"\n",
    "    prompt += f\"Question: {question.question_content}\\n\\n\"\n",
    "    if question.starter_code:\n",
    "        prompt += f\"{FORMATTING_MESSAGE_WITH_STARTER_CODE}\\n\"\n",
    "        prompt += f\"```python\\n{question.starter_code}\\n```\\n\\n\"\n",
    "    else:\n",
    "        prompt += f\"{FORMATTING_WITHOUT_STARTER_CODE}\\n\"\n",
    "        prompt += f\"```python\\n# YOUR CODE HERE\\n```\\n\\n\"\n",
    "    prompt += f\"<｜Assistant｜>\"\n",
    "    return prompt"
   ]
  },
  {
   "cell_type": "code",
   "execution_count": 69,
   "metadata": {},
   "outputs": [
    {
     "name": "stdout",
     "output_type": "stream",
     "text": [
      "You will be given a question (problem specification) and will generate a correct Python program that matches the specification and passes all tests.\n",
      "\n",
      "Question: You are given an array nums consisting of integers. You are also given a 2D array queries, where queries[i] = [pos_i, x_i].\n",
      "For query i, we first set nums[pos_i] equal to x_i, then we calculate the answer to query i which is the maximum sum of a subsequence of nums where no two adjacent elements are selected.\n",
      "Return the sum of the answers to all queries.\n",
      "Since the final answer may be very large, return it modulo 10^9 + 7.\n",
      "A subsequence is an array that can be derived from another array by deleting some or no elements without changing the order of the remaining elements.\n",
      " \n",
      "Example 1:\n",
      "\n",
      "Input: nums = [3,5,9], queries = [[1,-2],[0,-3]]\n",
      "Output: 21\n",
      "Explanation:\n",
      "After the 1^st query, nums = [3,-2,9] and the maximum sum of a subsequence with non-adjacent elements is 3 + 9 = 12.\n",
      "After the 2^nd query, nums = [-3,-2,9] and the maximum sum of a subsequence with non-adjacent elements is 9.\n",
      "\n",
      "Example 2:\n",
      "\n",
      "Input: nums = [0,-1], queries = [[0,-5]]\n",
      "Output: 0\n",
      "Explanation:\n",
      "After the 1^st query, nums = [-5,-1] and the maximum sum of a subsequence with non-adjacent elements is 0 (choosing an empty subsequence).\n",
      "\n",
      " \n",
      "Constraints:\n",
      "\n",
      "1 <= nums.length <= 5 * 10^4\n",
      "-10^5 <= nums[i] <= 10^5\n",
      "1 <= queries.length <= 5 * 10^4\n",
      "queries[i] == [pos_i, x_i]\n",
      "0 <= pos_i <= nums.length - 1\n",
      "-10^5 <= x_i <= 10^5\n",
      "\n",
      "You will use the following starter code to write the solution to the problem and enclose your code within delimiters.\n",
      "```python\n",
      "class Solution:\n",
      "    def maximumSumSubsequence(self, nums: List[int], queries: List[List[int]]) -> int:\n",
      "        \n",
      "```\n",
      "\n",
      "<｜Assistant｜>\n"
     ]
    }
   ],
   "source": [
    "# Generate the prompt\n",
    "prompt = get_deepseek_r1_question_template_answer(problem)\n",
    "print(prompt)"
   ]
  },
  {
   "cell_type": "markdown",
   "metadata": {},
   "source": [
    "### Call DeepSeek Pipeline"
   ]
  },
  {
   "cell_type": "code",
   "execution_count": 70,
   "metadata": {},
   "outputs": [],
   "source": [
    "import torch\n",
    "torch.cuda.empty_cache()\n",
    "torch.cuda.ipc_collect()"
   ]
  },
  {
   "cell_type": "code",
   "execution_count": 1,
   "metadata": {},
   "outputs": [
    {
     "data": {
      "application/vnd.jupyter.widget-view+json": {
       "model_id": "f919817ca4964b139e5a73f4031274a3",
       "version_major": 2,
       "version_minor": 0
      },
      "text/plain": [
       "Loading checkpoint shards:   0%|          | 0/2 [00:00<?, ?it/s]"
      ]
     },
     "metadata": {},
     "output_type": "display_data"
    },
    {
     "name": "stderr",
     "output_type": "stream",
     "text": [
      "Device set to use cuda:0\n"
     ]
    }
   ],
   "source": [
    "# Use a pipeline as a high-level helper\n",
    "import torch\n",
    "from transformers import pipeline\n",
    "\n",
    "model_directory = \"/datasets/ai/deepseek/hub/models--deepseek-ai--DeepSeek-R1-Distill-Qwen-7B/snapshots/6602cadec947dbb53e64f3d8d6425320b2197247\"\n",
    "\n",
    "pipe = pipeline(\"text-generation\", \n",
    "                model=model_directory,\n",
    "                max_length=8024,\n",
    "                device=0)"
   ]
  },
  {
   "cell_type": "code",
   "execution_count": 71,
   "metadata": {},
   "outputs": [
    {
     "data": {
      "text/plain": [
       "[{'generated_text': [{'role': 'system',\n",
       "    'content': '\\n    <｜begin▁of▁sentence｜>A conversation between User and Assistant.\\n    The user asks a question, and the Assistant solves it.\\n    The assistant first thinks about the reasoning process in the mind and then provides the user with the answer.\\n    The reasoning process and answer are enclosed within <think> </think> and <answer> </answer> tags, respectively, i.e., <think> reasoning process here </think> <answer> answer here </answer>.<｜User｜>\\n'},\n",
       "   {'role': 'user',\n",
       "    'content': 'You will be given a question (problem specification) and will generate a correct Python program that matches the specification and passes all tests.\\n\\nQuestion: You are given an array nums consisting of integers. You are also given a 2D array queries, where queries[i] = [pos_i, x_i].\\nFor query i, we first set nums[pos_i] equal to x_i, then we calculate the answer to query i which is the maximum sum of a subsequence of nums where no two adjacent elements are selected.\\nReturn the sum of the answers to all queries.\\nSince the final answer may be very large, return it modulo 10^9 + 7.\\nA subsequence is an array that can be derived from another array by deleting some or no elements without changing the order of the remaining elements.\\n \\nExample 1:\\n\\nInput: nums = [3,5,9], queries = [[1,-2],[0,-3]]\\nOutput: 21\\nExplanation:\\nAfter the 1^st query, nums = [3,-2,9] and the maximum sum of a subsequence with non-adjacent elements is 3 + 9 = 12.\\nAfter the 2^nd query, nums = [-3,-2,9] and the maximum sum of a subsequence with non-adjacent elements is 9.\\n\\nExample 2:\\n\\nInput: nums = [0,-1], queries = [[0,-5]]\\nOutput: 0\\nExplanation:\\nAfter the 1^st query, nums = [-5,-1] and the maximum sum of a subsequence with non-adjacent elements is 0 (choosing an empty subsequence).\\n\\n \\nConstraints:\\n\\n1 <= nums.length <= 5 * 10^4\\n-10^5 <= nums[i] <= 10^5\\n1 <= queries.length <= 5 * 10^4\\nqueries[i] == [pos_i, x_i]\\n0 <= pos_i <= nums.length - 1\\n-10^5 <= x_i <= 10^5\\n\\nYou will use the following starter code to write the solution to the problem and enclose your code within delimiters.\\n```python\\nclass Solution:\\n    def maximumSumSubsequence(self, nums: List[int], queries: List[List[int]]) -> int:\\n        \\n```\\n\\n<｜Assistant｜>'},\n",
       "   {'role': 'assistant',\n",
       "    'content': \"Okay, I need to solve this problem where I have to calculate the maximum sum of a subsequence for an array after each query. Each query updates a position in the array, and then I need to find the maximum sum where no two elements are adjacent. Finally, I sum all these maximum values for each query and return the result modulo 1e9+7.\\n\\nHmm, let's break this down. So, for each query, I update the array at a specific position and then compute the maximum sum. The challenge is to do this efficiently because both the array size and the number of queries can be up to 5e4, which is 50,000. So, a naive approach where I recompute the maximum sum from scratch for each query would be O(Q*N), which would be 2.5e9 operations. That's way too slow; I need a smarter approach.\\n\\nWait, what's the maximum sum of a non-adjacent subsequence? Oh right, it's a classic dynamic programming problem. For each position, the maximum sum up to that point is the maximum of including the current element (plus the maximum sum up to two steps back) or excluding it (taking the maximum sum up to the previous step). So, for the original array, I can precompute this using DP.\\n\\nBut the problem is that with updates, I need to maintain this DP efficiently. So, I can't recompute it from scratch each time. Instead, I should find a way to represent the DP in a way that allows me to quickly update it when a single element changes.\\n\\nLet me think about the DP approach. Let's define dp[i] as the maximum sum up to index i. The recurrence is:\\n\\ndp[i] = max(dp[i-1], dp[i-2] + nums[i])\\n\\nBut if I have to update a single element, say at position pos, how does that affect the DP array? Well, changing nums[pos] affects dp[pos], which in turn affects dp[pos+1] and dp[pos+2], and so on. But if I have a way to represent the DP in a way that allows me to compute the maximum sum efficiently after each update, that would help.\\n\\nAlternatively, maybe there's a way to represent the maximum sum as a function that can be updated incrementally. Since each update only affects a single element, perhaps I can find the new maximum sum by considering the impact of this change on the surrounding elements.\\n\\nWait, but the maximum sum could be affected in a non-local way. For example, if the updated element is part of a longer sequence, changing it might require recomputing a chain of DP steps.\\n\\nHmm, perhaps I can model the DP in a way that allows for efficient updates. For example, using a segment tree or some other data structure that can handle range queries and updates efficiently.\\n\\nLet me think about the DP again. The maximum sum is determined by the DP array, which is built from the end to the beginning. So, for each position i, dp[i] depends on dp[i-1] and dp[i-2]. So, if I have a segment tree that can compute the maximum sum from the DP array, perhaps I can update the tree when a single element changes and then query the maximum sum quickly.\\n\\nWait, but the maximum sum isn't directly stored in the segment tree. The segment tree would need to represent the DP array, and then the maximum sum can be computed based on the DP array. Or perhaps the segment tree can directly store the maximum sum up to each position, allowing for efficient updates and queries.\\n\\nAlternatively, maybe I can model the problem as a graph where each node represents a state of the DP, and edges represent transitions. But I'm not sure if that would help.\\n\\nLet me think differently. Since each query only changes one element, perhaps I can find the new maximum sum by considering the effect of this change on the surrounding elements. For example, if I update nums[pos], then dp[pos] changes, which affects dp[pos+1] and dp[pos+2], and so on. So, the change propagates forward from pos.\\n\\nBut how far does it propagate? It depends on whether the new value at pos allows for a longer sequence. For instance, if the new value is very high, it might allow including more elements further along.\\n\\nThis seems complicated. Maybe there's a smarter way. What if I precompute the DP array for the initial array, and then for each query, after updating the array, I recompute the DP starting from the updated position until the end or until the DP values stabilize.\\n\\nBut again, if the array is large and the number of queries is large, this could be too slow.\\n\\nWait, but what's the maximum possible number of steps that the DP change would propagate? For each update, it could potentially affect O(N) elements in the worst case. But if the array is 5e4 elements, and there are 5e4 queries, that's 2.5e9 operations, which is way too slow.\\n\\nSo, this approach isn't feasible.\\n\\nHmm, maybe I need to find a way to represent the maximum sum in a way that allows for O(1) or O(log N) updates. Let's think about the structure of the problem.\\n\\nThe maximum sum is determined by the DP array, which is built from the end. So, for each position i, the maximum sum is the maximum of including nums[i] plus the maximum sum two steps back, or excluding it and taking the maximum sum one step back.\\n\\nThis suggests that the DP array can be built in reverse order. So, if I have the DP array built from the end, each update to nums[pos] affects dp[pos], which affects dp[pos-1], and so on until the beginning.\\n\\nWait, but in reverse order, the DP is built from the end. So, if I update dp[pos], I need to update dp[pos-1], which depends on dp[pos-2], etc. But this seems like it could be manageable if I have a way to represent the DP in a way that allows for efficient updates.\\n\\nAlternatively, maybe I can represent the DP as a linked list or some other structure that allows for quick updates.\\n\\nWait, perhaps I can model the DP as a binary indexed tree or a segment tree that can handle range updates and queries. But I'm not sure.\\n\\nAnother idea: since the maximum sum is determined by the DP array, and each update only affects a single element, perhaps I can precompute the maximum sum and then, for each query, adjust the maximum sum based on the change in the element and the surrounding DP values.\\n\\nBut I'm not sure how to do that.\\n\\nWait, let's think about the maximum sum after an update. The maximum sum is the maximum of the DP array. So, if I can maintain the maximum of the DP array, and update it when necessary, that might help.\\n\\nBut how?\\n\\nAlternatively, perhaps I can represent the DP array as a graph where each node depends on certain previous nodes, and then use memoization to track the maximum sum. But I'm not sure.\\n\\nWait, maybe I can use a monotonic queue or some other data structure that allows me to efficiently find the maximum value in certain ranges.\\n\\nAlternatively, perhaps I can model the problem using a stack-based approach, where I keep track of certain values that allow me to compute the maximum sum quickly after an update.\\n\\nHmm, this is getting complicated. Maybe I should look for a pattern or a way to represent the DP that allows for efficient updates.\\n\\nWait, let's think about the DP in reverse. Let's say I have the DP array built from the end. So, dp[i] = max(dp[i-1], dp[i-2] + nums[i]). Now, if I update nums[pos], then dp[pos] changes. This will affect dp[pos-1], which depends on dp[pos] and dp[pos-2]. Wait, no, dp[pos-1] depends on dp[pos-2] and dp[pos-1]. If dp[pos] changes, then dp[pos-1] might need to be recomputed.\\n\\nWait, no. dp[pos-1] is the maximum of including nums[pos-1] plus dp[pos-3], or excluding it and taking dp[pos-2]. So, if dp[pos] changes, it affects dp[pos+1], which in turn affects dp[pos+2], etc. So, when you update dp[pos], you need to propagate the change forward.\\n\\nSo, the update could cause a chain reaction where each subsequent dp value is recomputed based on the previous ones.\\n\\nThis suggests that for each query, after updating nums[pos], I need to recompute dp from pos to the end, but that could be O(N) per query, which is too slow.\\n\\nBut maybe there's a way to compute the new dp values more efficiently. For example, if the change in dp[pos] affects dp[pos+1], which in turn affects dp[pos+2], but perhaps after a certain point, the dp values stabilize, so I don't have to compute all of them.\\n\\nAlternatively, maybe I can find the maximum sum without recomputing the entire DP array each time.\\n\\nWait, but the maximum sum is the maximum of the entire DP array. So, if I can find a way to maintain the maximum value efficiently, that could help.\\n\\nHmm, perhaps I can maintain a data structure that allows me to quickly find the maximum value in the DP array after each update. But since each update can potentially affect a range of DP values, it's not clear how to do this.\\n\\nAnother idea: Since the DP array is built in a way that each dp[i] depends only on dp[i-1] and dp[i-2], perhaps the changes propagate in a way that can be handled with a segment tree that supports range updates and range maximum queries.\\n\\nWait, but each update to dp[pos] affects dp[pos+1], dp[pos+2], etc., up to the end. So, it's a range update from pos+1 to the end.\\n\\nBut implementing a segment tree that can handle such range updates is possible, but it's not straightforward. Each update could require O(N) time in the worst case, which is again too slow.\\n\\nHmm, perhaps there's a smarter way to model this. Maybe the maximum sum can be represented in a way that allows for O(1) or O(log N) updates per query.\\n\\nWait, what if I precompute the DP array and then, for each query, find the new maximum sum by considering the changes in the DP array caused by the update. But I'm not sure how to do that quickly.\\n\\nAlternatively, perhaps I can represent the DP array as a binary indexed tree or a segment tree, where each node represents a certain range and stores the necessary information to compute the maximum sum for that range.\\n\\nBut I'm not sure how to structure this.\\n\\nWait, maybe I can model the DP as a linked list, where each node points to the next node, and when a change occurs, I traverse the linked list from the changed node to the end, updating the DP values as needed.\\n\\nBut again, this could be too slow for large N and Q.\\n\\nHmm, perhaps I need to think differently. What if I precompute the maximum sum for the initial array, and then for each query, I adjust the maximum sum based on the changes in the DP array caused by the update.\\n\\nBut I'm not sure how to do that.\\n\\nWait, let's think about the initial maximum sum. After an update, the maximum sum could either increase or decrease, depending on the new value and how it affects the DP.\\n\\nSo, perhaps I can find the new maximum sum by considering the DP array from the updated position to the end.\\n\\nBut again, this would require O(N) time per query, which is too slow.\\n\\nHmm, maybe there's a way to represent the DP array in a way that allows for efficient updates and queries. For example, using a segment tree where each node stores the maximum sum for that segment, and the necessary information to compute the maximum sum when a single element is updated.\\n\\nWait, that might work. Let's think about it.\\n\\nEach node in the segment tree represents a range [l, r] and stores the maximum sum for that range. When a query updates a single element, I can update the segment tree by changing the value of that element and propagating the change up the tree, updating the maximum sums for the affected nodes.\\n\\nThen, to get the overall maximum sum, I can query the entire range [0, N-1].\\n\\nBut wait, the maximum sum isn't directly stored in the segment tree. The maximum sum is the maximum of the entire DP array. So, the segment tree needs to store the maximum value in the DP array for each segment, so that when I query the entire array, I get the maximum sum.\\n\\nYes, that makes sense.\\n\\nSo, the plan is:\\n\\n1. Precompute the initial DP array for the given array nums.\\n\\n2. Build a segment tree where each node stores the maximum value in its range, which is the maximum of the DP values in that range.\\n\\n3. For each query:\\n   a. Update the nums array at pos_i to x_i.\\n   b. Update the segment tree at position pos_i, since the DP[pos_i] value has changed.\\n   c. Query the segment tree for the maximum value in the entire array, which is the answer for this query.\\n   d. Sum this value into the total result.\\n\\nBut wait, the DP array is built from the end, so when I update a position, I need to update the DP values from that position to the end. However, in the segment tree approach, I'm only updating the value at pos_i and then querying the maximum. This might not capture the changes in the DP array correctly.\\n\\nHmm, perhaps this approach won't work because the DP array is interdependent. For example, changing dp[pos] affects dp[pos+1], which in turn affects dp[pos+2], and so on. So, the segment tree approach as described might not capture these dependencies correctly.\\n\\nSo, maybe the segment tree needs to represent the entire DP array, and each node needs to have the information to compute the DP values for its range. But that sounds complicated.\\n\\nAlternatively, perhaps I can model the DP array in a way that allows for efficient updates. For example, if I can represent the DP array as a linked list where each node depends on certain previous nodes, then an update to a node would only require updating its dependent nodes.\\n\\nBut I'm not sure how to implement this.\\n\\nWait, maybe I can represent the DP array as a binary indexed tree, where each node stores the necessary information to compute the DP value. But again, I'm not sure.\\n\\nThis seems like a tough problem. Maybe I should look for some patterns or mathematical properties that can help simplify the problem.\\n\\nWait, another idea: the maximum sum after any update is the maximum of the DP array. So, perhaps I can maintain a data structure that keeps track of the maximum value in the DP array. Then, for each query, I can just get this maximum value.\\n\\nBut how to maintain this maximum efficiently when the DP array changes.\\n\\nHmm, perhaps the maximum can be updated incrementally. For example, when a single element in the DP array changes, if the new value is higher than the current maximum, then the new maximum is this value. Otherwise, the maximum remains the same or needs to be recomputed.\\n\\nBut this is not always the case. Changing a DP element could cause a chain of changes that might affect the maximum in a way that's not captured by a simple comparison.\\n\\nSo, this approach might not work.\\n\\nHmm, maybe I need to accept that for each query, I have to recompute the DP array from the updated position to the end, but find a way to do it efficiently.\\n\\nWait, let's think about the DP recurrence:\\n\\ndp[i] = max(dp[i-1], dp[i-2] + nums[i])\\n\\nSo, if I update nums[pos], then dp[pos] changes. Then, dp[pos+1] depends on dp[pos] and dp[pos-1]. So, dp[pos+1] might need to be recomputed. Then, dp[pos+2] depends on dp[pos+1] and dp[pos], so it might need to be recomputed, and so on.\\n\\nThis suggests that for each query, I have to recompute the DP array from pos to the end, which is O(N) in the worst case. But with Q=5e4 and N=5e4, this would be O(\"}]}]"
      ]
     },
     "execution_count": 71,
     "metadata": {},
     "output_type": "execute_result"
    }
   ],
   "source": [
    "messages = [\n",
    "    {\"role\": \"system\", \"content\": SYSTEM_MESSAGE_DEEPSEEK_R1},\n",
    "    {\"role\": \"user\", \"content\": prompt},\n",
    "]\n",
    "\n",
    "response = pipe(messages)\n",
    "response"
   ]
  },
  {
   "cell_type": "code",
   "execution_count": 73,
   "metadata": {},
   "outputs": [
    {
     "name": "stdout",
     "output_type": "stream",
     "text": [
      "⚠️ No </think> found.\n",
      "⚠️ No ```python ... ``` block found.\n"
     ]
    }
   ],
   "source": [
    "import re\n",
    "\n",
    "# Assuming `response` is your generated DeepSeek output like in your example\n",
    "raw_output = response[0]['generated_text'][2]['content']\n",
    "\n",
    "# 1. Extract only the content inside <think>...</think>\n",
    "if '</think>' in raw_output:\n",
    "    think_block = raw_output.split('</think>')[1]  # Everything after </think>\n",
    "else:\n",
    "    print(\"⚠️ No </think> found.\")\n",
    "    think_block = raw_output\n",
    "\n",
    "# 2. Extract the Python code block from the think content\n",
    "code_match = re.search(r\"```python(.*?)```\", think_block, re.DOTALL)\n",
    "\n",
    "if code_match:\n",
    "    solution_code = code_match.group(1).strip()\n",
    "    print(\"✅ Extracted code:\\n\", solution_code)\n",
    "else:\n",
    "    print(\"⚠️ No ```python ... ``` block found.\")\n",
    "    solution_code = None"
   ]
  },
  {
   "cell_type": "code",
   "execution_count": null,
   "metadata": {},
   "outputs": [],
   "source": [
    "import re\n",
    "\n",
    "# The full output string from your example\n",
    "output = response[0]['generated_text'][2]['content'].split('</think>')[1]\n",
    "\n",
    "# Extract the code inside ```python ... ```\n",
    "match = re.search(r\"```python(.*?)```\", output, re.DOTALL)\n",
    "solution_code = match.group(1).strip() if match else None\n",
    "\n",
    "print(solution_code)"
   ]
  },
  {
   "cell_type": "code",
   "execution_count": null,
   "metadata": {},
   "outputs": [],
   "source": []
  },
  {
   "cell_type": "markdown",
   "metadata": {},
   "source": [
    "### Eval"
   ]
  },
  {
   "cell_type": "code",
   "execution_count": null,
   "metadata": {},
   "outputs": [],
   "source": [
    "import json\n",
    "from lcb_runner.evaluation.testing_util import run_test\n",
    "\n",
    "def evaluate_code_with_row(row, generated_code: str, timeout: int = 30, debug: bool = False):\n",
    "    \"\"\"\n",
    "    Evaluate a solution against public test cases from a LiveCodeBench row.\n",
    "\n",
    "    Args:\n",
    "        row: A row from your benchmark DataFrame (must have public_test_cases).\n",
    "        generated_code: A string of the full Python solution (including input() / print()).\n",
    "        timeout: Max time in seconds to allow execution.\n",
    "        debug: Whether to print debug information.\n",
    "\n",
    "    Returns:\n",
    "        result: A list of correctness indicators per test (e.g., [1] for pass, [-2] for failure)\n",
    "        metadata: Full I/O trace including mismatches, output, expected, etc.\n",
    "    \"\"\"\n",
    "    if not row.get(\"public_test_cases\"):\n",
    "        print(\"⚠️ No public test cases found in this row.\")\n",
    "        return None, None\n",
    "\n",
    "    public_tests = json.loads(row[\"public_test_cases\"])\n",
    "    \n",
    "    # Concatenate inputs and outputs into one big stdin/out test case\n",
    "    combined_input = \"\".join(tc[\"input\"] for tc in public_tests)\n",
    "    combined_output = \"\".join(tc[\"output\"] for tc in public_tests)\n",
    "\n",
    "    sample = {\n",
    "        \"input_output\": json.dumps({\n",
    "            \"inputs\": [combined_input],\n",
    "            \"outputs\": [combined_output]\n",
    "        }),\n",
    "        \"code\": \"\"  # not executed\n",
    "    }\n",
    "\n",
    "    return run_test(sample, test=generated_code, timeout=timeout, debug=debug)"
   ]
  },
  {
   "cell_type": "code",
   "execution_count": null,
   "metadata": {},
   "outputs": [],
   "source": [
    "row"
   ]
  },
  {
   "cell_type": "code",
   "execution_count": null,
   "metadata": {},
   "outputs": [],
   "source": [
    "### Patch to bypass reliability_guard restrictions in Jupyter\n",
    "from lcb_runner import evaluation\n",
    "\n",
    "def dummy_guard(*args, **kwargs):\n",
    "    # print(\"⚠️ reliability_guard skipped for notebook safety.\")\n",
    "    pass\n",
    "\n",
    "evaluation.testing_util.reliability_guard = dummy_guard"
   ]
  },
  {
   "cell_type": "code",
   "execution_count": null,
   "metadata": {},
   "outputs": [],
   "source": [
    "result, metadata = evaluate_code_with_row(row, solution_code, timeout=30, debug=True)\n",
    "\n",
    "print(\"✅ Result:\", result)\n",
    "print(\"📝 Metadata:\", metadata)"
   ]
  },
  {
   "cell_type": "code",
   "execution_count": 39,
   "metadata": {},
   "outputs": [
    {
     "name": "stdout",
     "output_type": "stream",
     "text": [
      "4\n",
      "4\n",
      "2 2 1 2\n",
      "3\n",
      "0 1 2\n",
      "5\n",
      "4 3 2 3 4\n",
      "9\n",
      "9 9 9 9 9 9 9 9 9\n",
      "\n",
      "**********\n",
      "16\n",
      "2\n",
      "432\n",
      "430467210\n",
      "\n"
     ]
    }
   ],
   "source": [
    "public_tests = json.loads(row[\"public_test_cases\"])\n",
    "    \n",
    "# Concatenate inputs and outputs into one big stdin/out test case\n",
    "combined_input = \"\".join(tc[\"input\"] for tc in public_tests)\n",
    "combined_output = \"\".join(tc[\"output\"] for tc in public_tests)\n",
    "print(combined_input)\n",
    "print(\"*\"*10)\n",
    "print(combined_output)"
   ]
  },
  {
   "cell_type": "code",
   "execution_count": 44,
   "metadata": {},
   "outputs": [
    {
     "name": "stdout",
     "output_type": "stream",
     "text": [
      "📝 Output from model: None\n",
      "✅ Expected output: None\n"
     ]
    }
   ],
   "source": [
    "print(\"📝 Output from model:\", metadata.get(\"output\"))\n",
    "print(\"✅ Expected output:\", metadata.get(\"expected\"))"
   ]
  },
  {
   "cell_type": "code",
   "execution_count": null,
   "metadata": {},
   "outputs": [],
   "source": []
  },
  {
   "cell_type": "code",
   "execution_count": null,
   "metadata": {},
   "outputs": [],
   "source": []
  },
  {
   "cell_type": "code",
   "execution_count": null,
   "metadata": {},
   "outputs": [],
   "source": []
  },
  {
   "cell_type": "code",
   "execution_count": null,
   "metadata": {},
   "outputs": [],
   "source": []
  },
  {
   "cell_type": "code",
   "execution_count": null,
   "metadata": {},
   "outputs": [],
   "source": []
  },
  {
   "cell_type": "code",
   "execution_count": null,
   "metadata": {},
   "outputs": [],
   "source": []
  },
  {
   "cell_type": "code",
   "execution_count": null,
   "metadata": {},
   "outputs": [],
   "source": []
  },
  {
   "cell_type": "code",
   "execution_count": null,
   "metadata": {},
   "outputs": [],
   "source": []
  },
  {
   "cell_type": "code",
   "execution_count": null,
   "metadata": {},
   "outputs": [],
   "source": []
  },
  {
   "cell_type": "code",
   "execution_count": null,
   "metadata": {},
   "outputs": [],
   "source": []
  },
  {
   "cell_type": "code",
   "execution_count": null,
   "metadata": {},
   "outputs": [],
   "source": []
  },
  {
   "cell_type": "code",
   "execution_count": null,
   "metadata": {},
   "outputs": [],
   "source": []
  },
  {
   "cell_type": "code",
   "execution_count": null,
   "metadata": {},
   "outputs": [],
   "source": []
  },
  {
   "cell_type": "markdown",
   "metadata": {},
   "source": [
    "## Qwen"
   ]
  },
  {
   "cell_type": "code",
   "execution_count": 17,
   "metadata": {},
   "outputs": [],
   "source": [
    "SYSTEM_MESSAGE_GENERIC = f\"You are an expert Python programmer. You will be given a question (problem specification) and will generate a correct Python program that matches the specification and passes all tests.\"\n",
    "SYSTEM_MESSAGE_CODEQWEN = f\"<|im_start|>system\\nYou are a helpful assistant.<|im_end|>\\n<|im_start|>user\"\n",
    "SYSTEM_MESSAGE_QWEN_QWQ = f\"<|im_start|>system\\nYou are a helpful and harmless assistant. You are Qwen developed by Alibaba. You should think step-by-step.<|im_end|>\\n<|im_start|>user\"\n",
    "\n",
    "def get_qwen_question_template_answer(question: CodeGenerationProblem):\n",
    "    from transformers import AutoTokenizer\n",
    "\n",
    "    tokenizer = AutoTokenizer.from_pretrained(\n",
    "        \"/abacus/models/Qwen1.5-72B-Chat/\", padding_side=\"left\", use_fast=False\n",
    "    )\n",
    "    prompt = \"You will be given a question (problem specification) and will generate a correct Python program that matches the specification and passes all tests. You will NOT return anything except for the program.\\n\\n\"\n",
    "    prompt += f\"Question:\\n{question.question_content}\\n\\n\"\n",
    "    if question.starter_code:\n",
    "        prompt += f\"{FORMATTING_MESSAGE_WITH_STARTER_CODE}\\n\"\n",
    "        prompt += f\"```python\\n{question.starter_code}\\n```\\n\\n\"\n",
    "    else:\n",
    "        prompt += f\"{FORMATTING_WITHOUT_STARTER_CODE}\\n\\n\"\n",
    "        prompt += f\"```python\\n# YOUR CODE HERE\\n```\\n\\n\"\n",
    "\n",
    "    messages = [\n",
    "        {\"role\": \"system\", \"content\": SYSTEM_MESSAGE_GENERIC},\n",
    "        {\"role\": \"user\", \"content\": prompt},\n",
    "    ]\n",
    "\n",
    "    prompt = tokenizer.apply_chat_template(\n",
    "        messages,\n",
    "        tokenize=False,\n",
    "        add_generation_prompt=True,\n",
    "        truncation=False,\n",
    "        padding=False,\n",
    "    )\n",
    "    return prompt\n",
    "\n",
    "\n",
    "def get_codeqwen_question_template_answer(question: CodeGenerationProblem):\n",
    "    prompt = \"You will be given a question (problem specification) and will generate a correct Python program that matches the specification and passes all tests. You will NOT return anything except for the program.\\n\\n\"\n",
    "    prompt += f\"Question: {question.question_content}\\n\\n\"\n",
    "    if question.starter_code:\n",
    "        prompt += f\"{FORMATTING_MESSAGE_WITH_STARTER_CODE}\\n\"\n",
    "        prompt += f\"```python\\n{question.starter_code}\\n```\\n\\n<|im_end|>\\n\"\n",
    "    else:\n",
    "        prompt += f\"{FORMATTING_WITHOUT_STARTER_CODE}\\n\"\n",
    "        prompt += f\"```python\\n# YOUR CODE HERE\\n```\\n\\n<|im_end|>\\n\"\n",
    "    prompt += f\"<|im_start|>assistant\\n\"\n",
    "    return prompt"
   ]
  },
  {
   "cell_type": "code",
   "execution_count": 19,
   "metadata": {},
   "outputs": [
    {
     "name": "stdout",
     "output_type": "stream",
     "text": [
      "You will be given a question (problem specification) and will generate a correct Python program that matches the specification and passes all tests. You will NOT return anything except for the program.\n",
      "\n",
      "Question: You are given a 0-indexed array of strings details. Each element of details provides information about a given passenger compressed into a string of length 15. The system is such that:\n",
      "\n",
      "The first ten characters consist of the phone number of passengers.\n",
      "The next character denotes the gender of the person.\n",
      "The following two characters are used to indicate the age of the person.\n",
      "The last two characters determine the seat allotted to that person.\n",
      "\n",
      "Return the number of passengers who are strictly more than 60 years old.\n",
      " \n",
      "\n",
      "\n",
      "You will use the following starter code to write the solution to the problem and enclose your code within delimiters.\n",
      "```python\n",
      "def countSeniors(self, details: List[str]) -> int:\n",
      "    pass\n",
      "```\n",
      "\n",
      "<|im_end|>\n",
      "<|im_start|>assistant\n",
      "\n"
     ]
    }
   ],
   "source": [
    "# Generate the prompt\n",
    "prompt = get_codeqwen_question_template_answer(problem)\n",
    "print(prompt)"
   ]
  },
  {
   "cell_type": "markdown",
   "metadata": {},
   "source": [
    "### Call Qwen Model"
   ]
  },
  {
   "cell_type": "code",
   "execution_count": null,
   "metadata": {},
   "outputs": [],
   "source": [
    "# Use a pipeline as a high-level helper\n",
    "import torch\n",
    "from transformers import pipeline\n",
    "\n",
    "model_directory = \"/datasets/ai/deepseek/hub/models--deepseek-ai--DeepSeek-R1-Distill-Qwen-7B/snapshots/6602cadec947dbb53e64f3d8d6425320b2197247\"\n",
    "\n",
    "pipe = pipeline(\"text-generation\", \n",
    "                model=model_directory,\n",
    "                max_length=8024,\n",
    "                device=0)\n"
   ]
  }
 ],
 "metadata": {
  "kernelspec": {
   "display_name": "Python [conda env:miniconda3-overthink]",
   "language": "python",
   "name": "conda-env-miniconda3-overthink-py"
  },
  "language_info": {
   "codemirror_mode": {
    "name": "ipython",
    "version": 3
   },
   "file_extension": ".py",
   "mimetype": "text/x-python",
   "name": "python",
   "nbconvert_exporter": "python",
   "pygments_lexer": "ipython3",
   "version": "3.9.21"
  }
 },
 "nbformat": 4,
 "nbformat_minor": 4
}
