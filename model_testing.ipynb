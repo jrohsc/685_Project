{
 "cells": [
  {
   "cell_type": "code",
   "execution_count": null,
   "metadata": {},
   "outputs": [],
   "source": [
    "import torch\n",
    "from maps import model_map\n",
    "from transformers import pipeline\n",
    "from prompt_template import REASONING_JUDGE\n",
    "\n",
    "model_str = 'llama_3_1_8B_it'\n",
    "model_dir = model_map[model_str]\n",
    "model = pipeline(\"text-generation\", \n",
    "                model=model_dir,\n",
    "                torch_dtype=torch.float16,\n",
    "                max_length=8024,\n",
    "                device=0)\n",
    "\n",
    "model"
   ]
  },
  {
   "cell_type": "code",
   "execution_count": 16,
   "metadata": {},
   "outputs": [
    {
     "data": {
      "application/vnd.jupyter.widget-view+json": {
       "model_id": "4ce6a723bd59420f952d13b3b207507d",
       "version_major": 2,
       "version_minor": 0
      },
      "text/plain": [
       "Loading checkpoint shards:   0%|          | 0/4 [00:00<?, ?it/s]"
      ]
     },
     "metadata": {},
     "output_type": "display_data"
    },
    {
     "data": {
      "text/plain": [
       "<transformers.pipelines.text_generation.TextGenerationPipeline at 0x75c2729e21c0>"
      ]
     },
     "execution_count": 16,
     "metadata": {},
     "output_type": "execute_result"
    }
   ],
   "source": [
    "target_model_str = 'deepseek_14b'\n",
    "target_model_dir = model_map[target_model_str]\n",
    "target_model = pipeline(\"text-generation\", \n",
    "                model=target_model_dir,\n",
    "                torch_dtype=torch.float16,\n",
    "                max_length=8024,\n",
    "                device=0)\n",
    "\n",
    "target_model"
   ]
  },
  {
   "cell_type": "code",
   "execution_count": 2,
   "metadata": {},
   "outputs": [
    {
     "data": {
      "text/html": [
       "<div>\n",
       "<style scoped>\n",
       "    .dataframe tbody tr th:only-of-type {\n",
       "        vertical-align: middle;\n",
       "    }\n",
       "\n",
       "    .dataframe tbody tr th {\n",
       "        vertical-align: top;\n",
       "    }\n",
       "\n",
       "    .dataframe thead th {\n",
       "        text-align: right;\n",
       "    }\n",
       "</style>\n",
       "<table border=\"1\" class=\"dataframe\">\n",
       "  <thead>\n",
       "    <tr style=\"text-align: right;\">\n",
       "      <th></th>\n",
       "      <th>id</th>\n",
       "      <th>slug</th>\n",
       "      <th>title</th>\n",
       "      <th>difficulty</th>\n",
       "      <th>content</th>\n",
       "      <th>java</th>\n",
       "      <th>c++</th>\n",
       "      <th>python</th>\n",
       "      <th>javascript</th>\n",
       "    </tr>\n",
       "  </thead>\n",
       "  <tbody>\n",
       "    <tr>\n",
       "      <th>0</th>\n",
       "      <td>1</td>\n",
       "      <td>two-sum</td>\n",
       "      <td>Two Sum</td>\n",
       "      <td>Easy</td>\n",
       "      <td>Given an array of integers `nums` and an integ...</td>\n",
       "      <td>\\n    ```java\\nimport java.util.HashMap;\\nimpo...</td>\n",
       "      <td>\\n    ```cpp\\n#include &lt;vector&gt;\\n#include &lt;uno...</td>\n",
       "      <td>\\n    ```python\\ndef twoSum(nums, target):\\n  ...</td>\n",
       "      <td>\\n    ```javascript\\nfunction twoSum(nums, tar...</td>\n",
       "    </tr>\n",
       "    <tr>\n",
       "      <th>1</th>\n",
       "      <td>2</td>\n",
       "      <td>add-two-numbers</td>\n",
       "      <td>Add Two Numbers</td>\n",
       "      <td>Medium</td>\n",
       "      <td>You are given two **non-empty** linked lists r...</td>\n",
       "      <td>\\n    ```java\\npublic class ListNode {\\n    in...</td>\n",
       "      <td>\\n    ```cpp\\nstruct ListNode {\\n    int val;\\...</td>\n",
       "      <td>\\n    ```python\\nclass ListNode:\\n    def __in...</td>\n",
       "      <td>\\n    ```javascript\\nfunction ListNode(val, ne...</td>\n",
       "    </tr>\n",
       "    <tr>\n",
       "      <th>2</th>\n",
       "      <td>3</td>\n",
       "      <td>longest-substring-without-repeating-characters</td>\n",
       "      <td>Longest Substring Without Repeating Characters</td>\n",
       "      <td>Medium</td>\n",
       "      <td>Given a string `s`, find the length of the **l...</td>\n",
       "      <td>\\n    ```java\\nimport java.util.HashSet;\\nimpo...</td>\n",
       "      <td>\\n    ```cpp\\n#include &lt;string&gt;\\n#include &lt;uno...</td>\n",
       "      <td>\\n    ```python\\ndef length_of_longest_substri...</td>\n",
       "      <td>\\n    ```javascript\\nfunction lengthOfLongestS...</td>\n",
       "    </tr>\n",
       "    <tr>\n",
       "      <th>3</th>\n",
       "      <td>4</td>\n",
       "      <td>median-of-two-sorted-arrays</td>\n",
       "      <td>Median of Two Sorted Arrays</td>\n",
       "      <td>Hard</td>\n",
       "      <td>Given two sorted arrays `nums1` and `nums2` of...</td>\n",
       "      <td>\\n    ```java\\npublic double findMedianSortedA...</td>\n",
       "      <td>\\n    ```cpp\\ndouble findMedianSortedArrays(ve...</td>\n",
       "      <td>\\n    ```python\\ndef findMedianSortedArrays(nu...</td>\n",
       "      <td>\\n    ```javascript\\nfunction findMedianSorted...</td>\n",
       "    </tr>\n",
       "    <tr>\n",
       "      <th>4</th>\n",
       "      <td>5</td>\n",
       "      <td>longest-palindromic-substring</td>\n",
       "      <td>Longest Palindromic Substring</td>\n",
       "      <td>Medium</td>\n",
       "      <td>Given a string `s`, return _the longest_ _pali...</td>\n",
       "      <td>\\n    ```java\\npublic String longestPalindromi...</td>\n",
       "      <td>\\n    ```cpp\\n#include &lt;string&gt;\\n\\nstd::string...</td>\n",
       "      <td>\\n    ```python\\ndef longest_palindromic_subst...</td>\n",
       "      <td>\\n    ```javascript\\nfunction longestPalindrom...</td>\n",
       "    </tr>\n",
       "  </tbody>\n",
       "</table>\n",
       "</div>"
      ],
      "text/plain": [
       "   id                                            slug  \\\n",
       "0   1                                         two-sum   \n",
       "1   2                                 add-two-numbers   \n",
       "2   3  longest-substring-without-repeating-characters   \n",
       "3   4                     median-of-two-sorted-arrays   \n",
       "4   5                   longest-palindromic-substring   \n",
       "\n",
       "                                            title difficulty  \\\n",
       "0                                         Two Sum       Easy   \n",
       "1                                 Add Two Numbers     Medium   \n",
       "2  Longest Substring Without Repeating Characters     Medium   \n",
       "3                     Median of Two Sorted Arrays       Hard   \n",
       "4                   Longest Palindromic Substring     Medium   \n",
       "\n",
       "                                             content  \\\n",
       "0  Given an array of integers `nums` and an integ...   \n",
       "1  You are given two **non-empty** linked lists r...   \n",
       "2  Given a string `s`, find the length of the **l...   \n",
       "3  Given two sorted arrays `nums1` and `nums2` of...   \n",
       "4  Given a string `s`, return _the longest_ _pali...   \n",
       "\n",
       "                                                java  \\\n",
       "0  \\n    ```java\\nimport java.util.HashMap;\\nimpo...   \n",
       "1  \\n    ```java\\npublic class ListNode {\\n    in...   \n",
       "2  \\n    ```java\\nimport java.util.HashSet;\\nimpo...   \n",
       "3  \\n    ```java\\npublic double findMedianSortedA...   \n",
       "4  \\n    ```java\\npublic String longestPalindromi...   \n",
       "\n",
       "                                                 c++  \\\n",
       "0  \\n    ```cpp\\n#include <vector>\\n#include <uno...   \n",
       "1  \\n    ```cpp\\nstruct ListNode {\\n    int val;\\...   \n",
       "2  \\n    ```cpp\\n#include <string>\\n#include <uno...   \n",
       "3  \\n    ```cpp\\ndouble findMedianSortedArrays(ve...   \n",
       "4  \\n    ```cpp\\n#include <string>\\n\\nstd::string...   \n",
       "\n",
       "                                              python  \\\n",
       "0  \\n    ```python\\ndef twoSum(nums, target):\\n  ...   \n",
       "1  \\n    ```python\\nclass ListNode:\\n    def __in...   \n",
       "2  \\n    ```python\\ndef length_of_longest_substri...   \n",
       "3  \\n    ```python\\ndef findMedianSortedArrays(nu...   \n",
       "4  \\n    ```python\\ndef longest_palindromic_subst...   \n",
       "\n",
       "                                          javascript  \n",
       "0  \\n    ```javascript\\nfunction twoSum(nums, tar...  \n",
       "1  \\n    ```javascript\\nfunction ListNode(val, ne...  \n",
       "2  \\n    ```javascript\\nfunction lengthOfLongestS...  \n",
       "3  \\n    ```javascript\\nfunction findMedianSorted...  \n",
       "4  \\n    ```javascript\\nfunction longestPalindrom...  "
      ]
     },
     "execution_count": 2,
     "metadata": {},
     "output_type": "execute_result"
    }
   ],
   "source": [
    "import pandas as pd\n",
    "from datasets import load_dataset\n",
    "\n",
    "ds = load_dataset(\"greengerong/leetcode\")['train']\n",
    "df = pd.DataFrame.from_dict(ds)\n",
    "df.head()"
   ]
  },
  {
   "cell_type": "code",
   "execution_count": 5,
   "metadata": {},
   "outputs": [
    {
     "data": {
      "text/plain": [
       "'You are given two **non-empty** linked lists representing two non-negative integers. The digits are stored in **reverse order**, and each of their nodes contains a single digit. Add the two numbers and return the sum as a linked list.\\n\\nYou may assume the two numbers do not contain any leading zero, except the number 0 itself.\\n\\n**Example 1:**\\n\\n**Input:** l1 = \\\\[2,4,3\\\\], l2 = \\\\[5,6,4\\\\]\\n**Output:** \\\\[7,0,8\\\\]\\n**Explanation:** 342 + 465 = 807.\\n\\n**Example 2:**\\n\\n**Input:** l1 = \\\\[0\\\\], l2 = \\\\[0\\\\]\\n**Output:** \\\\[0\\\\]\\n\\n**Example 3:**\\n\\n**Input:** l1 = \\\\[9,9,9,9,9,9,9\\\\], l2 = \\\\[9,9,9,9\\\\]\\n**Output:** \\\\[8,9,9,9,0,0,0,1\\\\]\\n\\n**Constraints:**\\n\\n*   The number of nodes in each linked list is in the range `[1, 100]`.\\n*   `0 <= Node.val <= 9`\\n*   It is guaranteed that the list represents a number that does not have leading zeros.'"
      ]
     },
     "execution_count": 5,
     "metadata": {},
     "output_type": "execute_result"
    }
   ],
   "source": [
    "idx = 1\n",
    "orig_content = df['content'][idx]\n",
    "orig_content"
   ]
  },
  {
   "cell_type": "markdown",
   "metadata": {},
   "source": [
    "### Prompt Templates"
   ]
  },
  {
   "cell_type": "code",
   "execution_count": 6,
   "metadata": {},
   "outputs": [],
   "source": [
    "STORYTELLING_TEMPLATE = \"\"\"\n",
    "Please convert the following coding problem into a storytelling framework while preserving all the original problem's constraints and requirements. The story should:\n",
    "\n",
    "1. Be written as a fictional narrative where characters encounter the problem naturally\n",
    "2. Maintain all mathematical/logical constraints from the original\n",
    "3. Include all examples from the original in narrative form\n",
    "4. Keep the same variable names and technical details\n",
    "5. Present the problem implicitly rather than explicitly\n",
    "6. Have a natural flow that would make sense in a story context\n",
    "\n",
    "Here is the original problem:\n",
    "{orig_content}\n",
    "\n",
    "Create the story version now, maintaining all technical accuracy while making it engaging. Only generate the output with no additional comment:\n",
    "\"\"\""
   ]
  },
  {
   "cell_type": "code",
   "execution_count": 7,
   "metadata": {},
   "outputs": [],
   "source": [
    "NUMEMRICAL_PERTURBATION_TEMPLATE = f\"\"\"\n",
    "Please modify the numerical values in the following coding problem while maintaining:\n",
    "1. All structural/logical relationships between values\n",
    "2. The original problem's constraints (adjusted proportionally)\n",
    "3. The same number of examples\n",
    "4. The same variable names and problem framework\n",
    "5. Mathematical consistency\n",
    "\n",
    "Apply one or more of these transformations to each number:\n",
    "- Random increment/decrement (small-medium change)\n",
    "- Proportional scaling (e.g., multiply all by 1.5)\n",
    "- Sign flipping (if mathematically valid)\n",
    "- Digit permutation (e.g., 15 → 51)\n",
    "- Base number change (e.g., shift from 9 to 16 as base)\n",
    "\n",
    "Original problem:\n",
    "{orig_content}\n",
    "\n",
    "Provide 3 different variations, each with:\n",
    "- A description of the transformation applied\n",
    "- The complete modified problem\n",
    "- Verification that all constraints remain logically consistent\n",
    "\"\"\""
   ]
  },
  {
   "cell_type": "code",
   "execution_count": null,
   "metadata": {},
   "outputs": [],
   "source": [
    "domain_shift_prompt = \"\"\"\n",
    "Rephrase this coding problem in a different domain (e.g., medicine, sports, physics) while:\n",
    "1. Keeping all mathematical/logical requirements intact.\n",
    "2. Using domain-specific terminology for variables (e.g., \"target\" → \"patient’s threshold\").\n",
    "3. Ensuring the solution remains identical to the original.\n",
    "\n",
    "Original problem:\n",
    "{orig_content}\n",
    "\n",
    "Generate 2 versions: one in a scientific domain and one in an everyday scenario.\n",
    "\"\"\""
   ]
  },
  {
   "cell_type": "code",
   "execution_count": null,
   "metadata": {},
   "outputs": [],
   "source": [
    "redundancy_prompt = f\"\"\"\n",
    "Modify this problem to include plausible but irrelevant computational steps:\n",
    "1. Insert a preprocessing requirement (e.g., \"sort the array first\").\n",
    "2. Add a false intermediate goal (e.g., \"compute the average before solving\").\n",
    "3. Ensure the core problem is still solvable but obscured.\n",
    "\n",
    "Original problem:\n",
    "{orig_content}\n",
    "\n",
    "Output the modified version with injected redundancy.\n",
    "\"\"\""
   ]
  },
  {
   "cell_type": "code",
   "execution_count": 11,
   "metadata": {},
   "outputs": [],
   "source": [
    "antagonistic_example_prompt = f\"\"\"\n",
    "Add 2-3 adversarial examples that:\n",
    "1. Follow a false pattern (e.g., always select even indices).\n",
    "2. Include plausible-sounding but incorrect explanations.\n",
    "3. Are statistically likely to appear in naive sampling.\n",
    "\n",
    "Original: {orig_content}\n",
    "\n",
    "Generate bait examples and their misleading logic.\n",
    "\"\"\""
   ]
  },
  {
   "cell_type": "markdown",
   "metadata": {},
   "source": [
    "### Prompt Conversion"
   ]
  },
  {
   "cell_type": "code",
   "execution_count": 15,
   "metadata": {},
   "outputs": [
    {
     "name": "stdout",
     "output_type": "stream",
     "text": [
      "\n",
      "Please modify the numerical values in the following coding problem while maintaining:\n",
      "1. All structural/logical relationships between values\n",
      "2. The original problem's constraints (adjusted proportionally)\n",
      "3. The same number of examples\n",
      "4. The same variable names and problem framework\n",
      "5. Mathematical consistency\n",
      "\n",
      "Apply one or more of these transformations to each number:\n",
      "- Random increment/decrement (small-medium change)\n",
      "- Proportional scaling (e.g., multiply all by 1.5)\n",
      "- Sign flipping (if mathematically valid)\n",
      "- Digit permutation (e.g., 15 → 51)\n",
      "- Base number change (e.g., shift from 9 to 16 as base)\n",
      "\n",
      "Original problem:\n",
      "You are given two **non-empty** linked lists representing two non-negative integers. The digits are stored in **reverse order**, and each of their nodes contains a single digit. Add the two numbers and return the sum as a linked list.\n",
      "\n",
      "You may assume the two numbers do not contain any leading zero, except the number 0 itself.\n",
      "\n",
      "**Example 1:**\n",
      "\n",
      "**Input:** l1 = \\[2,4,3\\], l2 = \\[5,6,4\\]\n",
      "**Output:** \\[7,0,8\\]\n",
      "**Explanation:** 342 + 465 = 807.\n",
      "\n",
      "**Example 2:**\n",
      "\n",
      "**Input:** l1 = \\[0\\], l2 = \\[0\\]\n",
      "**Output:** \\[0\\]\n",
      "\n",
      "**Example 3:**\n",
      "\n",
      "**Input:** l1 = \\[9,9,9,9,9,9,9\\], l2 = \\[9,9,9,9\\]\n",
      "**Output:** \\[8,9,9,9,0,0,0,1\\]\n",
      "\n",
      "**Constraints:**\n",
      "\n",
      "*   The number of nodes in each linked list is in the range `[1, 100]`.\n",
      "*   `0 <= Node.val <= 9`\n",
      "*   It is guaranteed that the list represents a number that does not have leading zeros.\n",
      "\n",
      "Provide 3 different variations, each with:\n",
      "- A description of the transformation applied\n",
      "- The complete modified problem\n",
      "- Verification that all constraints remain logically consistent\n",
      "\n"
     ]
    }
   ],
   "source": [
    "prompt = NUMEMRICAL_PERTURBATION_TEMPLATE.format(orig_content=orig_content)\n",
    "print(prompt)"
   ]
  },
  {
   "cell_type": "code",
   "execution_count": 17,
   "metadata": {},
   "outputs": [
    {
     "name": "stderr",
     "output_type": "stream",
     "text": [
      "Setting `pad_token_id` to `eos_token_id`:None for open-end generation.\n"
     ]
    },
    {
     "data": {
      "text/plain": [
       "'### Transformation 1: Random Increment/Decrement and Proportional Scaling\\n\\n**Description:** \\nWe will apply a small random increment/decrement to some of the numerical values and scale all the values proportionally by a factor of 2.\\n\\n**Modified Problem:**\\nYou are given two **non-empty** linked lists representing two non-negative integers. The digits are stored in **reverse order**, and each of their nodes contains a single digit. Add the two numbers and return the sum as a linked list.\\n\\nYou may assume the two numbers do not contain any leading zero, except the number 0 itself.\\n\\n**Example 1:**\\n\\n**Input:** l1 = \\\\[5,8,3\\\\], l2 = \\\\[7,6,4\\\\]\\n**Output:** \\\\[2,0,8\\\\]\\n**Explanation:** 538 + 764 = 1302.\\n\\n**Example 2:**\\n\\n**Input:** l1 = \\\\[0\\\\], l2 = \\\\[0\\\\]\\n**Output:** \\\\[0\\\\]\\n\\n**Example 3:**\\n\\n**Input:** l1 = \\\\[19,9,9,9,9,9,9\\\\], l2 = \\\\[9,9,9,19\\\\]\\n**Output:** \\\\[9,9,9,8,0,0,0,1\\\\]\\n\\n**Constraints:**\\n\\n*   The number of nodes in each linked list is in the range `[1, 200]`.\\n*   `0 <= Node.val <= 18`\\n*   It is guaranteed that the list represents a number that does not have leading zeros.\\n\\n### Transformation 2: Digit Permutation and Sign Flipping\\n\\n**Description:** \\nWe will apply a digit permutation to some of the numerical values and flip the sign of some values.\\n\\n**Modified Problem:**\\nYou are given two **non-empty** linked lists representing two non-negative integers. The digits are stored in **reverse order**, and each of their nodes contains a single digit. Add the two numbers and return the sum as a linked list.\\n\\nYou may assume the two numbers do not contain any leading zero, except the number 0 itself.\\n\\n**Example 1:**\\n\\n**Input:** l1 = \\\\[3,4,2\\\\], l2 = \\\\[6,4,5\\\\]\\n**Output:** \\\\[9,8,7\\\\]\\n**Explanation:** 342 + 465 = 807.\\n\\n**Example 2:**\\n\\n**Input:** l1 = \\\\[-0\\\\], l2 = \\\\[0\\\\]\\n**Output:** \\\\[-0\\\\]\\n\\n**Example 3:**\\n\\n**Input:** l1 = \\\\[9,9,9,9,9,9,9\\\\], l2 = \\\\[-9,9,9,9\\\\]\\n**Output:** \\\\[9,9,9,9,0,0,0,-1\\\\]\\n\\n**Constraints:**\\n\\n*   The number of nodes in each linked list is in the range `[1, 100]`.\\n*   `-9 <= Node.val <= 9`\\n*   It is guaranteed that the list represents a number that does not have leading zeros.\\n\\n### Transformation 3: Base Number Change\\n\\n**Description:** \\nWe will change the base number from 10 to 16.\\n\\n**Modified Problem:**\\nYou are given two **non-empty** linked lists representing two non-negative integers in base 16. The digits are stored in **reverse order**, and each of their nodes contains a single hexadecimal digit. Add the two numbers and return the sum as a linked list in base 16.\\n\\nYou may assume the two numbers do not contain any leading zero, except the number 0 itself.\\n\\n**Example 1:**\\n\\n**Input:** l1 = \\\\[2,4,3\\\\], l2 = \\\\[5,6,4\\\\]\\n**Output:** \\\\[7,0,8\\\\]\\n**Explanation:** 342 + 465 = 807 (in base 10).\\n\\n**Example 2:**\\n\\n**Input:** l1 = \\\\[0\\\\], l2 = \\\\[0\\\\]\\n**Output:** \\\\[0\\\\]\\n\\n**Example 3:**\\n\\n**Input:** l1 = \\\\[9,9,9,9,9,9,9\\\\], l2 = \\\\[9,9,9,9\\\\]\\n**Output:** \\\\[8,9,9,9,0,0,0,1\\\\]\\n\\n**Constraints:**\\n\\n*   The number of nodes in each linked list is in the range `[1, 100]`.\\n*   `0 <= Node.val <= 9` (in base 16)\\n*   It is guaranteed that the list represents a number that does not have leading zeros.\\n\\nNote: The constraints for base 16 are the same as for base 10, but in base 16, the digits 0-9 have the same meaning as in base 10, and the digits A-F represent the numbers 10-15.'"
      ]
     },
     "execution_count": 17,
     "metadata": {},
     "output_type": "execute_result"
    }
   ],
   "source": [
    "messages = [{\"role\": \"user\", \"content\": prompt}]\n",
    "\n",
    "modified_content = model(messages)\n",
    "modified_content = modified_content[0]['generated_text'][1]['content']\n",
    "modified_content"
   ]
  },
  {
   "cell_type": "code",
   "execution_count": null,
   "metadata": {},
   "outputs": [],
   "source": []
  },
  {
   "cell_type": "code",
   "execution_count": null,
   "metadata": {},
   "outputs": [],
   "source": []
  },
  {
   "cell_type": "code",
   "execution_count": null,
   "metadata": {},
   "outputs": [],
   "source": []
  }
 ],
 "metadata": {
  "kernelspec": {
   "display_name": "llama3",
   "language": "python",
   "name": "python3"
  },
  "language_info": {
   "codemirror_mode": {
    "name": "ipython",
    "version": 3
   },
   "file_extension": ".py",
   "mimetype": "text/x-python",
   "name": "python",
   "nbconvert_exporter": "python",
   "pygments_lexer": "ipython3",
   "version": "3.9.20"
  }
 },
 "nbformat": 4,
 "nbformat_minor": 2
}
