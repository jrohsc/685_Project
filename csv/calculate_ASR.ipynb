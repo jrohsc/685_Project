{
 "cells": [
  {
   "cell_type": "code",
   "execution_count": 2,
   "metadata": {},
   "outputs": [],
   "source": [
    "import re\n",
    "\n",
    "def extract_correctness(text):\n",
    "    match = re.search(r'\\b(correct|incorrect)\\b', text, re.IGNORECASE)\n",
    "    return match.group(0) if match else None"
   ]
  },
  {
   "cell_type": "code",
   "execution_count": 3,
   "metadata": {},
   "outputs": [],
   "source": [
    "attacks = ['naive', 'alter', 'irrelevant', 'paraphrase']\n",
    "models = ['deepseek_7b', 'deepseek_14b', 'deepseek_32b', 'qwen_2_5_7b', 'qwq_32b', 'llama_3_1_8B_it']"
   ]
  },
  {
   "cell_type": "code",
   "execution_count": 7,
   "metadata": {},
   "outputs": [
    {
     "name": "stderr",
     "output_type": "stream",
     "text": [
      "100%|██████████| 6/6 [00:00<00:00, 44.44it/s]\n",
      " 25%|██▌       | 1/4 [00:00<00:00,  7.28it/s]"
     ]
    },
    {
     "name": "stdout",
     "output_type": "stream",
     "text": [
      "**************************************************\n",
      "len(df): 109\n",
      "attack: naive\n",
      "model: deepseek_7b\n",
      "judge_model: llama_3_1_8B_it\n",
      "overall_acc: 34.862385321100916\n",
      "easy_acc: 18.181818181818183\n",
      "med_acc: 33.33333333333333\n",
      "hard_acc: 55.00000000000001\n",
      "**************************************************\n",
      "**************************************************\n",
      "len(df): 75\n",
      "attack: naive\n",
      "model: deepseek_14b\n",
      "judge_model: llama_3_1_8B_it\n",
      "overall_acc: 25.333333333333336\n",
      "easy_acc: 20.0\n",
      "med_acc: 23.25581395348837\n",
      "hard_acc: 37.5\n",
      "**************************************************\n",
      "**************************************************\n",
      "len(df): 46\n",
      "attack: naive\n",
      "model: deepseek_32b\n",
      "judge_model: llama_3_1_8B_it\n",
      "overall_acc: 15.217391304347828\n",
      "easy_acc: 30.0\n",
      "med_acc: 7.6923076923076925\n",
      "hard_acc: 11.11111111111111\n",
      "**************************************************\n",
      "**************************************************\n",
      "len(df): 300\n",
      "attack: naive\n",
      "model: qwen_2_5_7b\n",
      "judge_model: llama_3_1_8B_it\n",
      "overall_acc: 9.0\n",
      "easy_acc: 11.428571428571429\n",
      "med_acc: 8.092485549132949\n",
      "hard_acc: 8.928571428571429\n",
      "**************************************************\n",
      "**************************************************\n",
      "len(df): 257\n",
      "attack: naive\n",
      "model: qwq_32b\n",
      "judge_model: llama_3_1_8B_it\n",
      "overall_acc: 19.844357976653697\n",
      "easy_acc: 28.125\n",
      "med_acc: 17.80821917808219\n",
      "hard_acc: 15.217391304347828\n",
      "**************************************************\n",
      "**************************************************\n",
      "len(df): 300\n",
      "attack: naive\n",
      "model: llama_3_1_8B_it\n",
      "judge_model: llama_3_1_8B_it\n",
      "overall_acc: 23.333333333333332\n",
      "easy_acc: 28.57142857142857\n",
      "med_acc: 22.54335260115607\n",
      "hard_acc: 19.642857142857142\n",
      "**************************************************\n"
     ]
    },
    {
     "name": "stderr",
     "output_type": "stream",
     "text": []
    },
    {
     "name": "stdout",
     "output_type": "stream",
     "text": [
      "**************************************************\n",
      "len(df): 74\n",
      "attack: alter\n",
      "model: deepseek_7b\n",
      "judge_model: llama_3_1_8B_it\n",
      "overall_acc: 47.2972972972973\n",
      "easy_acc: 20.0\n",
      "med_acc: 50.0\n",
      "hard_acc: 68.75\n",
      "**************************************************\n",
      "**************************************************\n",
      "len(df): 50\n",
      "attack: alter\n",
      "model: deepseek_14b\n",
      "judge_model: llama_3_1_8B_it\n",
      "overall_acc: 40.0\n",
      "easy_acc: 40.0\n",
      "med_acc: 37.93103448275862\n",
      "hard_acc: 40.0\n",
      "**************************************************\n",
      "**************************************************\n",
      "len(df): 25\n",
      "attack: alter\n",
      "model: deepseek_32b\n",
      "judge_model: llama_3_1_8B_it\n",
      "overall_acc: 8.0\n",
      "easy_acc: 14.285714285714285\n",
      "med_acc: 8.333333333333332\n",
      "hard_acc: 0.0\n",
      "**************************************************\n"
     ]
    },
    {
     "name": "stderr",
     "output_type": "stream",
     "text": [
      "100%|██████████| 6/6 [00:00<00:00, 40.48it/s]\n",
      " 50%|█████     | 2/4 [00:00<00:00,  6.88it/s]"
     ]
    },
    {
     "name": "stdout",
     "output_type": "stream",
     "text": [
      "**************************************************\n",
      "len(df): 300\n",
      "attack: alter\n",
      "model: qwen_2_5_7b\n",
      "judge_model: llama_3_1_8B_it\n",
      "overall_acc: 5.0\n",
      "easy_acc: 5.714285714285714\n",
      "med_acc: 4.046242774566474\n",
      "hard_acc: 7.142857142857142\n",
      "**************************************************\n",
      "**************************************************\n",
      "len(df): 90\n",
      "attack: alter\n",
      "model: qwq_32b\n",
      "judge_model: llama_3_1_8B_it\n",
      "overall_acc: 14.444444444444443\n",
      "easy_acc: 11.11111111111111\n",
      "med_acc: 17.307692307692307\n",
      "hard_acc: 10.526315789473683\n",
      "**************************************************\n",
      "**************************************************\n",
      "len(df): 300\n",
      "attack: alter\n",
      "model: llama_3_1_8B_it\n",
      "judge_model: llama_3_1_8B_it\n",
      "overall_acc: 19.0\n",
      "easy_acc: 24.285714285714285\n",
      "med_acc: 17.91907514450867\n",
      "hard_acc: 14.285714285714285\n",
      "**************************************************\n"
     ]
    },
    {
     "name": "stderr",
     "output_type": "stream",
     "text": []
    },
    {
     "name": "stdout",
     "output_type": "stream",
     "text": [
      "**************************************************\n",
      "len(df): 108\n",
      "attack: irrelevant\n",
      "model: deepseek_7b\n",
      "judge_model: llama_3_1_8B_it\n",
      "overall_acc: 37.03703703703704\n",
      "easy_acc: 13.636363636363635\n",
      "med_acc: 36.92307692307693\n",
      "hard_acc: 60.0\n",
      "**************************************************\n",
      "**************************************************\n",
      "len(df): 78\n",
      "attack: irrelevant\n",
      "model: deepseek_14b\n",
      "judge_model: llama_3_1_8B_it\n",
      "overall_acc: 25.64102564102564\n",
      "easy_acc: 20.0\n",
      "med_acc: 22.22222222222222\n",
      "hard_acc: 41.17647058823529\n",
      "**************************************************\n",
      "**************************************************\n",
      "len(df): 40\n",
      "attack: irrelevant\n",
      "model: deepseek_32b\n",
      "judge_model: llama_3_1_8B_it\n",
      "overall_acc: 5.0\n",
      "easy_acc: 10.0\n",
      "med_acc: 4.545454545454546\n",
      "hard_acc: 0.0\n",
      "**************************************************\n",
      "**************************************************\n",
      "len(df): 300\n",
      "attack: irrelevant\n",
      "model: qwen_2_5_7b\n",
      "judge_model: llama_3_1_8B_it\n",
      "overall_acc: 9.666666666666666\n",
      "easy_acc: 8.571428571428571\n",
      "med_acc: 10.404624277456648\n",
      "hard_acc: 7.142857142857142\n",
      "**************************************************\n"
     ]
    },
    {
     "name": "stderr",
     "output_type": "stream",
     "text": [
      "100%|██████████| 6/6 [00:00<00:00, 50.01it/s]\n",
      " 75%|███████▌  | 3/4 [00:00<00:00,  7.40it/s]"
     ]
    },
    {
     "name": "stdout",
     "output_type": "stream",
     "text": [
      "**************************************************\n",
      "len(df): 122\n",
      "attack: irrelevant\n",
      "model: qwq_32b\n",
      "judge_model: llama_3_1_8B_it\n",
      "overall_acc: 22.950819672131146\n",
      "easy_acc: 21.428571428571427\n",
      "med_acc: 25.0\n",
      "hard_acc: 19.047619047619047\n",
      "**************************************************\n",
      "**************************************************\n",
      "len(df): 300\n",
      "attack: irrelevant\n",
      "model: llama_3_1_8B_it\n",
      "judge_model: llama_3_1_8B_it\n",
      "overall_acc: 23.0\n",
      "easy_acc: 28.57142857142857\n",
      "med_acc: 19.653179190751445\n",
      "hard_acc: 25.0\n",
      "**************************************************\n"
     ]
    },
    {
     "name": "stderr",
     "output_type": "stream",
     "text": []
    },
    {
     "name": "stdout",
     "output_type": "stream",
     "text": [
      "**************************************************\n",
      "len(df): 116\n",
      "attack: paraphrase\n",
      "model: deepseek_7b\n",
      "judge_model: llama_3_1_8B_it\n",
      "overall_acc: 25.0\n",
      "easy_acc: 16.0\n",
      "med_acc: 21.73913043478261\n",
      "hard_acc: 47.61904761904761\n",
      "**************************************************\n",
      "**************************************************\n",
      "len(df): 72\n",
      "attack: paraphrase\n",
      "model: deepseek_14b\n",
      "judge_model: llama_3_1_8B_it\n",
      "overall_acc: 29.166666666666668\n",
      "easy_acc: 6.666666666666667\n",
      "med_acc: 35.0\n",
      "hard_acc: 37.5\n",
      "**************************************************\n",
      "**************************************************\n",
      "len(df): 42\n",
      "attack: paraphrase\n",
      "model: deepseek_32b\n",
      "judge_model: llama_3_1_8B_it\n",
      "overall_acc: 9.523809523809524\n",
      "easy_acc: 10.0\n",
      "med_acc: 12.5\n",
      "hard_acc: 0.0\n",
      "**************************************************\n",
      "**************************************************\n",
      "len(df): 300\n",
      "attack: paraphrase\n",
      "model: qwen_2_5_7b\n",
      "judge_model: llama_3_1_8B_it\n",
      "overall_acc: 8.333333333333332\n",
      "easy_acc: 8.571428571428571\n",
      "med_acc: 8.092485549132949\n",
      "hard_acc: 7.142857142857142\n",
      "**************************************************\n",
      "**************************************************\n",
      "len(df): 51\n",
      "attack: paraphrase\n",
      "model: qwq_32b\n",
      "judge_model: llama_3_1_8B_it\n",
      "overall_acc: 21.568627450980394\n",
      "easy_acc: 40.0\n",
      "med_acc: 14.285714285714285\n",
      "hard_acc: 25.0\n",
      "**************************************************\n"
     ]
    },
    {
     "name": "stderr",
     "output_type": "stream",
     "text": [
      "100%|██████████| 6/6 [00:00<00:00, 50.42it/s]\n",
      "100%|██████████| 4/4 [00:00<00:00,  7.48it/s]"
     ]
    },
    {
     "name": "stdout",
     "output_type": "stream",
     "text": [
      "**************************************************\n",
      "len(df): 300\n",
      "attack: paraphrase\n",
      "model: llama_3_1_8B_it\n",
      "judge_model: llama_3_1_8B_it\n",
      "overall_acc: 22.333333333333332\n",
      "easy_acc: 28.57142857142857\n",
      "med_acc: 20.809248554913296\n",
      "hard_acc: 19.642857142857142\n",
      "**************************************************\n"
     ]
    },
    {
     "name": "stderr",
     "output_type": "stream",
     "text": [
      "\n"
     ]
    }
   ],
   "source": [
    "import os\n",
    "from tqdm import tqdm\n",
    "import pandas as pd\n",
    "\n",
    "columns = ['attack', 'model', 'judge_model', 'overall_acc', 'easy_acc', 'med_acc', 'hard_acc']\n",
    "results_df = pd.DataFrame(columns=columns)\n",
    "results_df_path = 'all_results.csv'\n",
    "\n",
    "judge_model = \"llama_3_1_8B_it\"\n",
    "\n",
    "not_exist = []\n",
    "not_complete = []\n",
    "for attack in tqdm(attacks):\n",
    "    for model in tqdm(models):\n",
    "        easy_acc_list, med_acc_list, hard_acc_list = [], [], []\n",
    "        overall_acc_list = []\n",
    "        csv_path = f'target_{model}_judge_{judge_model}_attack_{attack}.csv'\n",
    "        if not os.path.exists(csv_path):\n",
    "            not_exist.append(csv_path)\n",
    "            continue\n",
    "        \n",
    "        df = pd.read_csv(csv_path)\n",
    "        # Remove duplicate rows based on 'orig_question' and 'ground_truth'\n",
    "        df = df.drop_duplicates(subset=['orig_question', 'ground_truth'], keep='first')\n",
    "\n",
    "        # if len(df) < 300:\n",
    "        #     not_complete.append(csv_path)\n",
    "        #     continue\n",
    "        \n",
    "        for idx, row in df.iterrows():\n",
    "            difficulty = row['difficulty']\n",
    "            final_eval_result = row['eval_result']\n",
    "            overall_acc_list.append(final_eval_result)\n",
    "            if difficulty == 'Easy':\n",
    "                easy_acc_list.append(final_eval_result)\n",
    "            elif difficulty == 'Medium':\n",
    "                med_acc_list.append(final_eval_result)\n",
    "            elif difficulty == 'Hard':\n",
    "                hard_acc_list.append(final_eval_result)\n",
    "        \n",
    "        overall_acc = (overall_acc_list.count('correct') / len(overall_acc_list)) * 100\n",
    "        easy_acc = (easy_acc_list.count('correct') / len(easy_acc_list)) * 100\n",
    "        med_acc = (med_acc_list.count('correct') / len(med_acc_list)) * 100\n",
    "        hard_acc = (hard_acc_list.count('correct') / len(hard_acc_list)) * 100\n",
    "        \n",
    "        print(\"*\" * 50)\n",
    "        print(f\"len(df): {len(df)}\")\n",
    "        print(f\"attack: {attack}\")\n",
    "        print(f\"model: {model}\")\n",
    "        print(f\"judge_model: {judge_model}\")\n",
    "        print(f\"overall_acc: {overall_acc}\")\n",
    "        print(f\"easy_acc: {easy_acc}\")\n",
    "        print(f\"med_acc: {med_acc}\")\n",
    "        print(f\"hard_acc: {hard_acc}\")\n",
    "        print(\"*\" * 50)\n",
    "\n",
    "        new_row = {\n",
    "            'attack': attack,\n",
    "            'model': model,\n",
    "            'judge_model': judge_model,\n",
    "            'overall_acc': overall_acc,\n",
    "            'easy_acc': easy_acc,\n",
    "            'med_acc': med_acc,\n",
    "            'hard_acc': hard_acc,\n",
    "        }\n",
    "        new_idx = len(results_df)\n",
    "        results_df.loc[new_idx] = new_row\n",
    "        results_df.to_csv(results_df_path, index=False)\n",
    "\n",
    "# Remove duplicates from the final results dataframe based on 'attack', 'model', and 'judge_model'\n",
    "results_df = results_df.drop_duplicates(subset=['attack', 'model', 'judge_model'], keep='first')\n",
    "results_df.to_csv(results_df_path, index=False)"
   ]
  },
  {
   "cell_type": "code",
   "execution_count": 6,
   "metadata": {},
   "outputs": [
    {
     "data": {
      "text/plain": [
       "[]"
      ]
     },
     "execution_count": 6,
     "metadata": {},
     "output_type": "execute_result"
    }
   ],
   "source": [
    "not_complete"
   ]
  },
  {
   "cell_type": "code",
   "execution_count": 6,
   "metadata": {},
   "outputs": [
    {
     "data": {
      "text/plain": [
       "[]"
      ]
     },
     "execution_count": 6,
     "metadata": {},
     "output_type": "execute_result"
    }
   ],
   "source": [
    "not_exist"
   ]
  },
  {
   "cell_type": "code",
   "execution_count": null,
   "metadata": {},
   "outputs": [],
   "source": []
  }
 ],
 "metadata": {
  "kernelspec": {
   "display_name": "voicebench",
   "language": "python",
   "name": "python3"
  },
  "language_info": {
   "codemirror_mode": {
    "name": "ipython",
    "version": 3
   },
   "file_extension": ".py",
   "mimetype": "text/x-python",
   "name": "python",
   "nbconvert_exporter": "python",
   "pygments_lexer": "ipython3",
   "version": "3.10.16"
  }
 },
 "nbformat": 4,
 "nbformat_minor": 2
}
