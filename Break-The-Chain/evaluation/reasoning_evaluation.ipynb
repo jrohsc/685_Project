{
 "cells": [
  {
   "cell_type": "markdown",
   "metadata": {},
   "source": [
    "## Rationale Evaluation"
   ]
  },
  {
   "cell_type": "code",
   "execution_count": null,
   "metadata": {},
   "outputs": [],
   "source": [
    "REASONING_EVAL_PROMPT = \"\"\"\n",
    "You are a reasoning quality evaluator specializing in rationale-based evaluation.\n",
    "\n",
    "You will be given a model's reasoning trace for solving a problem. \n",
    "Please perform the following tasks:\n",
    "\n",
    "1. Parse the reasoning into individual steps.\n",
    "2. Evaluate step-by-step logical coherence\n",
    "3. Evaluate the overall reasoning chain for consistency, relevance, and soundness.\n",
    "4. Assign two scores:\n",
    "   - Step Coherence Score (0-5)\n",
    "   - Chain Consistency Score (0-5)\n",
    "5. Sum the two to produce a Final Reasoning Score (0-10).\n",
    "\n",
    "Model's Reasoning Trace:\n",
    "<<<\n",
    "{reasoning_token_here}\n",
    ">>>\n",
    "\n",
    "Format your output like:\n",
    "\n",
    "Parsed Steps:\n",
    "1. ...\n",
    "2. ...\n",
    "...\n",
    "\n",
    "Step Coherence Evaluation:\n",
    "[short explanation + score out of 5]\n",
    "\n",
    "Chain Consistency Evaluation:\n",
    "[short explanation + score out of 5]\n",
    "\n",
    "Final Reasoning Score: X/10\n",
    "Summary Comment: [Overall comment]\n",
    "\"\"\""
   ]
  },
  {
   "cell_type": "code",
   "execution_count": null,
   "metadata": {},
   "outputs": [],
   "source": []
  },
  {
   "cell_type": "markdown",
   "metadata": {},
   "source": [
    "### Change in Reasoning Trajectory"
   ]
  },
  {
   "cell_type": "code",
   "execution_count": null,
   "metadata": {},
   "outputs": [],
   "source": [
    "rationale_delta = \"\"\"\n",
    "You are an expert reasoning evaluator.\n",
    "\n",
    "You will be given two reasoning traces:\n",
    "- The first is the model's reasoning for the **original** problem.\n",
    "- The second is the model's reasoning for a **perturbed** version of the problem.\n",
    "\n",
    "Your task is to **analyze the change in reasoning trajectory** between the two traces.\n",
    "\n",
    "Follow these steps:\n",
    "\n",
    "1. **Parse Steps**: \n",
    "   - Break both reasoning traces into numbered steps.\n",
    "   - Each step should represent a logical action, decision, or subgoal.\n",
    "\n",
    "2. **Align and Compare**:\n",
    "   - Match steps between the two traces based on similarity of purpose.\n",
    "   - Identify added, deleted, reordered, or significantly changed steps.\n",
    "\n",
    "3. **Assess Change Magnitude**:\n",
    "   - Assign a **Reasoning Change Score**:\n",
    "     - 0 = No meaningful change (identical reasoning)\n",
    "     - 1 = Very minor superficial differences (e.g., wording)\n",
    "     - 2 = Some steps slightly changed but overall plan intact\n",
    "     - 3 = Moderate changes in steps or order\n",
    "     - 4 = Major changes in strategy or problem-solving plan\n",
    "     - 5 = Complete rewrite of reasoning\n",
    "\n",
    "4. **Explain the Change**:\n",
    "   - Briefly summarize the main differences in reasoning structure or focus.\n",
    "\n",
    "5. **Optional - Suggest Reason**:\n",
    "   - Hypothesize why the perturbation might have led to these changes (if possible).\n",
    "\n",
    "---\n",
    "\n",
    "Input:\n",
    "\n",
    "Original Reasoning:\n",
    "<<<\n",
    "{reasoning_original}\n",
    ">>>\n",
    "\n",
    "Perturbed Reasoning:\n",
    "<<<\n",
    "{reasoning_perturbed}\n",
    ">>>\n",
    "\n",
    "---\n",
    "\n",
    "Output Format:\n",
    "\n",
    "Parsed Steps:\n",
    "- Original:\n",
    "  1. ...\n",
    "  2. ...\n",
    "  3. ...\n",
    "- Perturbed:\n",
    "  1. ...\n",
    "  2. ...\n",
    "  3. ...\n",
    "\n",
    "Alignment and Differences:\n",
    "- Step 1 (Original) aligns with Step 1 (Perturbed) [Minor wording change]\n",
    "- Step 2 (Original) has no match [Deleted]\n",
    "- Step 3 (Original) aligns with Step 2 (Perturbed) [Same meaning]\n",
    "\n",
    "Reasoning Change Score: X/5\n",
    "\n",
    "Summary of Changes:\n",
    "[1-3 sentences summarizing major shifts]\n",
    "\n",
    "Possible Reason for Change:\n",
    "[Optional hypothesis]\n",
    "\n",
    "\"\"\""
   ]
  },
  {
   "cell_type": "code",
   "execution_count": null,
   "metadata": {},
   "outputs": [],
   "source": []
  },
  {
   "cell_type": "code",
   "execution_count": null,
   "metadata": {},
   "outputs": [],
   "source": []
  },
  {
   "cell_type": "code",
   "execution_count": null,
   "metadata": {},
   "outputs": [],
   "source": []
  },
  {
   "cell_type": "code",
   "execution_count": null,
   "metadata": {},
   "outputs": [],
   "source": []
  },
  {
   "cell_type": "code",
   "execution_count": null,
   "metadata": {},
   "outputs": [],
   "source": []
  }
 ],
 "metadata": {
  "kernelspec": {
   "display_name": "overthink",
   "language": "python",
   "name": "python3"
  },
  "language_info": {
   "codemirror_mode": {
    "name": "ipython",
    "version": 3
   },
   "file_extension": ".py",
   "mimetype": "text/x-python",
   "name": "python",
   "nbconvert_exporter": "python",
   "pygments_lexer": "ipython3",
   "version": "3.9.21"
  }
 },
 "nbformat": 4,
 "nbformat_minor": 2
}
